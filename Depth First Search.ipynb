{
 "cells": [
  {
   "cell_type": "code",
   "execution_count": 1,
   "metadata": {
    "id": "iFlKRXentV6X"
   },
   "outputs": [],
   "source": [
    "def dfs(graph, start, target, visited=None, path=None):\n",
    "    if visited==None:\n",
    "        visited=set()\n",
    "    if path==None:\n",
    "      path=[]\n",
    "\n",
    "    visited.add(start)\n",
    "    path.append(start)\n",
    "    print(path)\n",
    "\n",
    "    if target==start:\n",
    "       return f\"Final Path --> {path}\"\n",
    "\n",
    "    for neighbors in graph[start]:\n",
    "        if neighbors not in visited:\n",
    "            new_patch=dfs(graph, neighbors, target, visited, path.copy())\n",
    "            if new_patch:\n",
    "                return new_patch"
   ]
  },
  {
   "cell_type": "code",
   "execution_count": 2,
   "metadata": {
    "id": "4LAzRsMHvPTM"
   },
   "outputs": [],
   "source": [
    "new_graph = {\n",
    "    \"A\":[\"B\", \"C\"],\n",
    "    \"B\":[\"D\", \"E\"],\n",
    "    \"C\":[\"F\", \"G\"],\n",
    "    \"D\":[\"H\"],\n",
    "    \"E\":[\"I\", \"J\"],\n",
    "    \"F\":[\"K\"],\n",
    "    \"G\":[\"L\",\"M\",\"N\"],\n",
    "    \"H\":[], \"I\":[], \"J\":[], \"K\":[], \"L\":[], \"M\":[], \"N\":[],\n",
    "}"
   ]
  },
  {
   "cell_type": "code",
   "execution_count": 3,
   "metadata": {},
   "outputs": [
    {
     "name": "stdout",
     "output_type": "stream",
     "text": [
      "['A']\n",
      "['A', 'B']\n",
      "['A', 'B', 'D']\n",
      "['A', 'B', 'D', 'H']\n",
      "['A', 'B', 'E']\n",
      "['A', 'B', 'E', 'I']\n",
      "['A', 'B', 'E', 'J']\n",
      "['A', 'C']\n",
      "['A', 'C', 'F']\n",
      "['A', 'C', 'F', 'K']\n"
     ]
    },
    {
     "data": {
      "text/plain": [
       "\"Final Path --> ['A', 'C', 'F', 'K']\""
      ]
     },
     "execution_count": 3,
     "metadata": {},
     "output_type": "execute_result"
    }
   ],
   "source": [
    "dfs(new_graph, \"A\", \"K\")"
   ]
  },
  {
   "cell_type": "code",
   "execution_count": 4,
   "metadata": {},
   "outputs": [
    {
     "name": "stdout",
     "output_type": "stream",
     "text": [
      "['A']\n",
      "['A', 'B']\n",
      "['A', 'B', 'E']\n",
      "['A', 'B', 'E', 'L']\n",
      "['A', 'B', 'F']\n",
      "['A', 'B', 'F', 'M']\n",
      "['A', 'B', 'F', 'N']\n",
      "['A', 'C']\n",
      "['A', 'C', 'G']\n",
      "['A', 'C', 'H']\n",
      "['A', 'C', 'I']\n",
      "['A', 'C', 'I', 'Q']\n"
     ]
    },
    {
     "data": {
      "text/plain": [
       "\"Final Path --> ['A', 'C', 'I', 'Q']\""
      ]
     },
     "execution_count": 4,
     "metadata": {},
     "output_type": "execute_result"
    }
   ],
   "source": [
    "new_graph = {\n",
    "    \"A\":[\"B\", \"C\"],\n",
    "    \"B\":[\"E\", \"F\"],\n",
    "    \"C\":[\"G\", \"H\", \"I\"],\n",
    "    \"D\":[\"J\",\"K\"],\n",
    "    \"E\":[\"L\"],\n",
    "    \"F\":[\"M\", \"N\"],\n",
    "    \"G\":[],\n",
    "    \"H\":[], \"I\":[\"Q\",\"P\"], \"J\":[], \"K\":[], \"L\":[], \"M\":[], \"N\":[],\n",
    "}\n",
    "dfs(new_graph, \"A\", \"Q\")\n"
   ]
  },
  {
   "cell_type": "code",
   "execution_count": null,
   "metadata": {},
   "outputs": [],
   "source": []
  }
 ],
 "metadata": {
  "colab": {
   "authorship_tag": "ABX9TyNEKXkbzK3wGkEK/bMxYveC",
   "provenance": []
  },
  "kernelspec": {
   "display_name": "Python 3 (ipykernel)",
   "language": "python",
   "name": "python3"
  },
  "language_info": {
   "codemirror_mode": {
    "name": "ipython",
    "version": 3
   },
   "file_extension": ".py",
   "mimetype": "text/x-python",
   "name": "python",
   "nbconvert_exporter": "python",
   "pygments_lexer": "ipython3",
   "version": "3.12.0"
  }
 },
 "nbformat": 4,
 "nbformat_minor": 4
}
