{
 "cells": [
  {
   "cell_type": "code",
   "execution_count": 1,
   "metadata": {
    "colab": {
     "base_uri": "https://localhost:8080/"
    },
    "executionInfo": {
     "elapsed": 8071,
     "status": "ok",
     "timestamp": 1713344816877,
     "user": {
      "displayName": "Chikoo",
      "userId": "02653874572978271731"
     },
     "user_tz": -330
    },
    "id": "Wkk-Q3yXSCT3",
    "outputId": "713e9201-0927-47f9-bc19-cdeaf8db0a01"
   },
   "outputs": [
    {
     "name": "stdout",
     "output_type": "stream",
     "text": [
      "Requirement already satisfied: python-constraint in c:\\users\\lenovo\\appdata\\local\\programs\\python\\python312\\lib\\site-packages (1.4.0)\n",
      "Note: you may need to restart the kernel to use updated packages.\n"
     ]
    },
    {
     "name": "stderr",
     "output_type": "stream",
     "text": [
      "\n",
      "[notice] A new release of pip is available: 23.2.1 -> 24.0\n",
      "[notice] To update, run: python.exe -m pip install --upgrade pip\n"
     ]
    }
   ],
   "source": [
    "pip install python-constraint"
   ]
  },
  {
   "cell_type": "code",
   "execution_count": 2,
   "metadata": {
    "executionInfo": {
     "elapsed": 6,
     "status": "ok",
     "timestamp": 1713344816878,
     "user": {
      "displayName": "Chikoo",
      "userId": "02653874572978271731"
     },
     "user_tz": -330
    },
    "id": "XYG4iSnKSJOD"
   },
   "outputs": [],
   "source": [
    "from constraint import Problem"
   ]
  },
  {
   "cell_type": "code",
   "execution_count": 3,
   "metadata": {
    "executionInfo": {
     "elapsed": 6,
     "status": "ok",
     "timestamp": 1713344816879,
     "user": {
      "displayName": "Chikoo",
      "userId": "02653874572978271731"
     },
     "user_tz": -330
    },
    "id": "cQ18bC6cSSdW"
   },
   "outputs": [],
   "source": [
    "problem = Problem()"
   ]
  },
  {
   "cell_type": "code",
   "execution_count": 4,
   "metadata": {
    "executionInfo": {
     "elapsed": 15,
     "status": "ok",
     "timestamp": 1713344817683,
     "user": {
      "displayName": "Chikoo",
      "userId": "02653874572978271731"
     },
     "user_tz": -330
    },
    "id": "CDf1ActySWTO"
   },
   "outputs": [],
   "source": [
    "division = [\"Sambhaji Nagar\",\"Amravati\",\"Pune\",\"Nashik\",\"Nagpur\",\"Konkan\"]\n",
    "color = [\"Yellow\",\"Orange\",\"Blue\"]"
   ]
  },
  {
   "cell_type": "code",
   "execution_count": 5,
   "metadata": {
    "executionInfo": {
     "elapsed": 15,
     "status": "ok",
     "timestamp": 1713344817684,
     "user": {
      "displayName": "Chikoo",
      "userId": "02653874572978271731"
     },
     "user_tz": -330
    },
    "id": "9ypTGcxlS1Gd"
   },
   "outputs": [],
   "source": [
    "div_pair = [(\"Sambhaji Nagar\", \"Pune\"),(\"Sambhaji Nagar\", \"Nashik\"),(\"Sambhaji Nagar\", \"Amravati\"),\n",
    " (\"Pune\", \"Konkan\"),(\"Pune\", \"Nashik\"),(\"Nashik\",\"Amravati\"),(\"Nashik\",\"Konkan\"),(\"Amravati\",\"Nagpur\")]"
   ]
  },
  {
   "cell_type": "code",
   "execution_count": 6,
   "metadata": {
    "executionInfo": {
     "elapsed": 14,
     "status": "ok",
     "timestamp": 1713344817684,
     "user": {
      "displayName": "Chikoo",
      "userId": "02653874572978271731"
     },
     "user_tz": -330
    },
    "id": "ybQwdOicaA57"
   },
   "outputs": [],
   "source": [
    "problem.addVariables(division, color)\n",
    "for i in div_pair:\n",
    "  problem.addConstraint(lambda x, y: x != y, i)"
   ]
  },
  {
   "cell_type": "code",
   "execution_count": 7,
   "metadata": {
    "executionInfo": {
     "elapsed": 13,
     "status": "ok",
     "timestamp": 1713344817684,
     "user": {
      "displayName": "Chikoo",
      "userId": "02653874572978271731"
     },
     "user_tz": -330
    },
    "id": "4blD2-i0Vs7A"
   },
   "outputs": [],
   "source": [
    "solution = problem.getSolutions()"
   ]
  },
  {
   "cell_type": "code",
   "execution_count": 8,
   "metadata": {
    "colab": {
     "base_uri": "https://localhost:8080/"
    },
    "executionInfo": {
     "elapsed": 14,
     "status": "ok",
     "timestamp": 1713344817685,
     "user": {
      "displayName": "Chikoo",
      "userId": "02653874572978271731"
     },
     "user_tz": -330
    },
    "id": "JBBY1V7kVsqR",
    "outputId": "bf91a515-503e-4e7f-a7ee-538dcda197ec"
   },
   "outputs": [
    {
     "data": {
      "text/plain": [
       "[{'Nashik': 'Blue',\n",
       "  'Amravati': 'Orange',\n",
       "  'Sambhaji Nagar': 'Yellow',\n",
       "  'Pune': 'Orange',\n",
       "  'Konkan': 'Yellow',\n",
       "  'Nagpur': 'Blue'},\n",
       " {'Nashik': 'Blue',\n",
       "  'Amravati': 'Orange',\n",
       "  'Sambhaji Nagar': 'Yellow',\n",
       "  'Pune': 'Orange',\n",
       "  'Konkan': 'Yellow',\n",
       "  'Nagpur': 'Yellow'},\n",
       " {'Nashik': 'Blue',\n",
       "  'Amravati': 'Yellow',\n",
       "  'Sambhaji Nagar': 'Orange',\n",
       "  'Pune': 'Yellow',\n",
       "  'Konkan': 'Orange',\n",
       "  'Nagpur': 'Orange'},\n",
       " {'Nashik': 'Blue',\n",
       "  'Amravati': 'Yellow',\n",
       "  'Sambhaji Nagar': 'Orange',\n",
       "  'Pune': 'Yellow',\n",
       "  'Konkan': 'Orange',\n",
       "  'Nagpur': 'Blue'},\n",
       " {'Nashik': 'Orange',\n",
       "  'Amravati': 'Blue',\n",
       "  'Sambhaji Nagar': 'Yellow',\n",
       "  'Pune': 'Blue',\n",
       "  'Konkan': 'Yellow',\n",
       "  'Nagpur': 'Yellow'},\n",
       " {'Nashik': 'Orange',\n",
       "  'Amravati': 'Blue',\n",
       "  'Sambhaji Nagar': 'Yellow',\n",
       "  'Pune': 'Blue',\n",
       "  'Konkan': 'Yellow',\n",
       "  'Nagpur': 'Orange'},\n",
       " {'Nashik': 'Orange',\n",
       "  'Amravati': 'Yellow',\n",
       "  'Sambhaji Nagar': 'Blue',\n",
       "  'Pune': 'Yellow',\n",
       "  'Konkan': 'Blue',\n",
       "  'Nagpur': 'Blue'},\n",
       " {'Nashik': 'Orange',\n",
       "  'Amravati': 'Yellow',\n",
       "  'Sambhaji Nagar': 'Blue',\n",
       "  'Pune': 'Yellow',\n",
       "  'Konkan': 'Blue',\n",
       "  'Nagpur': 'Orange'},\n",
       " {'Nashik': 'Yellow',\n",
       "  'Amravati': 'Orange',\n",
       "  'Sambhaji Nagar': 'Blue',\n",
       "  'Pune': 'Orange',\n",
       "  'Konkan': 'Blue',\n",
       "  'Nagpur': 'Yellow'},\n",
       " {'Nashik': 'Yellow',\n",
       "  'Amravati': 'Orange',\n",
       "  'Sambhaji Nagar': 'Blue',\n",
       "  'Pune': 'Orange',\n",
       "  'Konkan': 'Blue',\n",
       "  'Nagpur': 'Blue'},\n",
       " {'Nashik': 'Yellow',\n",
       "  'Amravati': 'Blue',\n",
       "  'Sambhaji Nagar': 'Orange',\n",
       "  'Pune': 'Blue',\n",
       "  'Konkan': 'Orange',\n",
       "  'Nagpur': 'Orange'},\n",
       " {'Nashik': 'Yellow',\n",
       "  'Amravati': 'Blue',\n",
       "  'Sambhaji Nagar': 'Orange',\n",
       "  'Pune': 'Blue',\n",
       "  'Konkan': 'Orange',\n",
       "  'Nagpur': 'Yellow'}]"
      ]
     },
     "execution_count": 8,
     "metadata": {},
     "output_type": "execute_result"
    }
   ],
   "source": [
    "solution"
   ]
  },
  {
   "cell_type": "code",
   "execution_count": 9,
   "metadata": {
    "executionInfo": {
     "elapsed": 11,
     "status": "ok",
     "timestamp": 1713344817685,
     "user": {
      "displayName": "Chikoo",
      "userId": "02653874572978271731"
     },
     "user_tz": -330
    },
    "id": "Xh39XzlWalsC"
   },
   "outputs": [],
   "source": [
    "from constraint import AllDifferentConstraint"
   ]
  },
  {
   "cell_type": "code",
   "execution_count": 10,
   "metadata": {
    "executionInfo": {
     "elapsed": 11,
     "status": "ok",
     "timestamp": 1713344817685,
     "user": {
      "displayName": "Chikoo",
      "userId": "02653874572978271731"
     },
     "user_tz": -330
    },
    "id": "26VHe150au20"
   },
   "outputs": [],
   "source": [
    "prob = Problem()"
   ]
  },
  {
   "cell_type": "code",
   "execution_count": 11,
   "metadata": {
    "executionInfo": {
     "elapsed": 11,
     "status": "ok",
     "timestamp": 1713344817686,
     "user": {
      "displayName": "Chikoo",
      "userId": "02653874572978271731"
     },
     "user_tz": -330
    },
    "id": "BtydfzdCaytq"
   },
   "outputs": [],
   "source": [
    "letters = [\"S\",\"E\",\"N\",\"D\",\"M\",\"O\",\"R\",\"Y\"]\n",
    "nums = range(10)"
   ]
  },
  {
   "cell_type": "code",
   "execution_count": 12,
   "metadata": {
    "executionInfo": {
     "elapsed": 11,
     "status": "ok",
     "timestamp": 1713344817686,
     "user": {
      "displayName": "Chikoo",
      "userId": "02653874572978271731"
     },
     "user_tz": -330
    },
    "id": "sFD5h5NQdJtX"
   },
   "outputs": [],
   "source": [
    "prob.addVariables(letters, nums)"
   ]
  },
  {
   "cell_type": "code",
   "execution_count": 13,
   "metadata": {
    "executionInfo": {
     "elapsed": 11,
     "status": "ok",
     "timestamp": 1713344817686,
     "user": {
      "displayName": "Chikoo",
      "userId": "02653874572978271731"
     },
     "user_tz": -330
    },
    "id": "Nn8U4bIgbq8u"
   },
   "outputs": [],
   "source": [
    "prob.addConstraint(AllDifferentConstraint(),letters)"
   ]
  },
  {
   "cell_type": "code",
   "execution_count": 14,
   "metadata": {
    "executionInfo": {
     "elapsed": 12,
     "status": "ok",
     "timestamp": 1713344817687,
     "user": {
      "displayName": "Chikoo",
      "userId": "02653874572978271731"
     },
     "user_tz": -330
    },
    "id": "rd1k9zXcjTz-"
   },
   "outputs": [],
   "source": [
    "prob.addConstraint(lambda S, M : S != 0 and M != 0, [\"S\", \"M\"])"
   ]
  },
  {
   "cell_type": "code",
   "execution_count": 15,
   "metadata": {
    "executionInfo": {
     "elapsed": 11,
     "status": "ok",
     "timestamp": 1713344817687,
     "user": {
      "displayName": "Chikoo",
      "userId": "02653874572978271731"
     },
     "user_tz": -330
    },
    "id": "KNfpk_GlyHhK"
   },
   "outputs": [],
   "source": [
    "prob.addConstraint(lambda S, E, N, D, M, O, R, Y: 1000*S + 100*E + 10*N + D +\n",
    "                   1000*M + 100*0 + 10*R + E ==\n",
    "                   10000*M + 1000*O + 100*N + 10*E + Y, letters)"
   ]
  },
  {
   "cell_type": "code",
   "execution_count": 16,
   "metadata": {
    "executionInfo": {
     "elapsed": 13748,
     "status": "ok",
     "timestamp": 1713344831424,
     "user": {
      "displayName": "Chikoo",
      "userId": "02653874572978271731"
     },
     "user_tz": -330
    },
    "id": "DNTr85drQ-ux"
   },
   "outputs": [],
   "source": [
    "solution = prob.getSolutions()"
   ]
  },
  {
   "cell_type": "code",
   "execution_count": 17,
   "metadata": {
    "colab": {
     "base_uri": "https://localhost:8080/"
    },
    "executionInfo": {
     "elapsed": 17,
     "status": "ok",
     "timestamp": 1713344831425,
     "user": {
      "displayName": "Chikoo",
      "userId": "02653874572978271731"
     },
     "user_tz": -330
    },
    "id": "gWk5G6kMRAKm",
    "outputId": "abcb7d84-5d92-4cd0-d815-3a22ed68d4d6"
   },
   "outputs": [
    {
     "data": {
      "text/plain": [
       "[{'M': 1, 'S': 9, 'D': 7, 'E': 5, 'N': 6, 'O': 0, 'R': 8, 'Y': 2}]"
      ]
     },
     "execution_count": 17,
     "metadata": {},
     "output_type": "execute_result"
    }
   ],
   "source": [
    "solution"
   ]
  },
  {
   "cell_type": "code",
   "execution_count": 18,
   "metadata": {
    "executionInfo": {
     "elapsed": 14,
     "status": "ok",
     "timestamp": 1713344831425,
     "user": {
      "displayName": "Chikoo",
      "userId": "02653874572978271731"
     },
     "user_tz": -330
    },
    "id": "BhCP-aRZYhKR"
   },
   "outputs": [],
   "source": [
    "from constraint import AllDifferentConstraint\n",
    "prob=Problem()"
   ]
  },
  {
   "cell_type": "code",
   "execution_count": 19,
   "metadata": {
    "executionInfo": {
     "elapsed": 13,
     "status": "ok",
     "timestamp": 1713344831425,
     "user": {
      "displayName": "Chikoo",
      "userId": "02653874572978271731"
     },
     "user_tz": -330
    },
    "id": "uLyCtS19Xco6"
   },
   "outputs": [],
   "source": [
    "lets=['B','A','S','E','L','G','M']\n",
    "nums=range(10)"
   ]
  },
  {
   "cell_type": "code",
   "execution_count": 20,
   "metadata": {
    "executionInfo": {
     "elapsed": 13,
     "status": "ok",
     "timestamp": 1713344831426,
     "user": {
      "displayName": "Chikoo",
      "userId": "02653874572978271731"
     },
     "user_tz": -330
    },
    "id": "WxZUCZzXYL7W"
   },
   "outputs": [],
   "source": [
    "prob.addVariables(lets,nums)"
   ]
  },
  {
   "cell_type": "code",
   "execution_count": 21,
   "metadata": {
    "executionInfo": {
     "elapsed": 12,
     "status": "ok",
     "timestamp": 1713344831426,
     "user": {
      "displayName": "Chikoo",
      "userId": "02653874572978271731"
     },
     "user_tz": -330
    },
    "id": "seGRqcd2YU9l"
   },
   "outputs": [],
   "source": [
    "prob.addConstraint(AllDifferentConstraint(),lets)"
   ]
  },
  {
   "cell_type": "code",
   "execution_count": 22,
   "metadata": {
    "executionInfo": {
     "elapsed": 11,
     "status": "ok",
     "timestamp": 1713344831426,
     "user": {
      "displayName": "Chikoo",
      "userId": "02653874572978271731"
     },
     "user_tz": -330
    },
    "id": "JD9y5cc3RY2N"
   },
   "outputs": [],
   "source": [
    "prob.addConstraint(lambda G, B : G!=0 and B!=0,('G','B'))"
   ]
  },
  {
   "cell_type": "code",
   "execution_count": 23,
   "metadata": {
    "executionInfo": {
     "elapsed": 10,
     "status": "ok",
     "timestamp": 1713344831426,
     "user": {
      "displayName": "Chikoo",
      "userId": "02653874572978271731"
     },
     "user_tz": -330
    },
    "id": "QNUFQ6rC-ZwL"
   },
   "outputs": [],
   "source": [
    "prob.addConstraint(lambda B, A, S, E, L, G, M : 1000*B + 100*A + 10*S + E +\n",
    "                   1000*B + 100*A + 10*L + L==\n",
    "                   10000*G + 1000*A + 100*M + 10*E + S, lets)"
   ]
  },
  {
   "cell_type": "code",
   "execution_count": 24,
   "metadata": {
    "executionInfo": {
     "elapsed": 2814,
     "status": "ok",
     "timestamp": 1713344834231,
     "user": {
      "displayName": "Chikoo",
      "userId": "02653874572978271731"
     },
     "user_tz": -330
    },
    "id": "6utlmLKgI1q7"
   },
   "outputs": [],
   "source": [
    "solution = prob.getSolutions()"
   ]
  },
  {
   "cell_type": "code",
   "execution_count": 25,
   "metadata": {
    "colab": {
     "base_uri": "https://localhost:8080/"
    },
    "executionInfo": {
     "elapsed": 27,
     "status": "ok",
     "timestamp": 1713344834233,
     "user": {
      "displayName": "Chikoo",
      "userId": "02653874572978271731"
     },
     "user_tz": -330
    },
    "id": "7M_4tzf5I30J",
    "outputId": "27b414d8-d1f9-4506-fd59-6625332f04a3"
   },
   "outputs": [
    {
     "data": {
      "text/plain": [
       "[{'B': 7, 'G': 1, 'A': 4, 'E': 3, 'L': 5, 'M': 9, 'S': 8}]"
      ]
     },
     "execution_count": 25,
     "metadata": {},
     "output_type": "execute_result"
    }
   ],
   "source": [
    "solution"
   ]
  },
  {
   "cell_type": "code",
   "execution_count": 26,
   "metadata": {
    "executionInfo": {
     "elapsed": 25,
     "status": "ok",
     "timestamp": 1713344834234,
     "user": {
      "displayName": "Chikoo",
      "userId": "02653874572978271731"
     },
     "user_tz": -330
    },
    "id": "baUfwvCVP98y"
   },
   "outputs": [],
   "source": [
    "from constraint import AllDifferentConstraint\n",
    "prob=Problem()"
   ]
  },
  {
   "cell_type": "code",
   "execution_count": 27,
   "metadata": {
    "executionInfo": {
     "elapsed": 24,
     "status": "ok",
     "timestamp": 1713344834234,
     "user": {
      "displayName": "Chikoo",
      "userId": "02653874572978271731"
     },
     "user_tz": -330
    },
    "id": "zEKy0E0xSOnk"
   },
   "outputs": [],
   "source": [
    "lets=['P','O','I','N','T','Z','E','R','G','Y']\n",
    "nums=range(10)\n",
    "prob.addVariables(lets,nums)\n",
    "prob.addConstraint(AllDifferentConstraint(),lets)\n",
    "prob.addConstraint(lambda P, Z, E : P!=0 and Z!=0 and E!=0,('P','Z','E'))"
   ]
  },
  {
   "cell_type": "code",
   "execution_count": 28,
   "metadata": {
    "colab": {
     "base_uri": "https://localhost:8080/"
    },
    "executionInfo": {
     "elapsed": 86228,
     "status": "ok",
     "timestamp": 1713345692322,
     "user": {
      "displayName": "Chikoo",
      "userId": "02653874572978271731"
     },
     "user_tz": -330
    },
    "id": "MMiQE5e5WDs-",
    "outputId": "37cf19e1-ea54-4b61-c246-f4bf65f417b8"
   },
   "outputs": [
    {
     "data": {
      "text/plain": [
       "[{'E': 1,\n",
       "  'P': 9,\n",
       "  'Z': 3,\n",
       "  'G': 7,\n",
       "  'I': 5,\n",
       "  'N': 0,\n",
       "  'O': 8,\n",
       "  'R': 6,\n",
       "  'T': 4,\n",
       "  'Y': 2}]"
      ]
     },
     "execution_count": 28,
     "metadata": {},
     "output_type": "execute_result"
    }
   ],
   "source": [
    "prob.addConstraint(lambda P, O, I, N, T, Z, E, R, G, Y : 10000*P + 1000*O + 100*I + 10*N + T +\n",
    "                   1000*Z + 100*E + 10*R + O ==\n",
    "                   100000*E + 10000*N + 1000*E + 100*R + 10*G + Y, lets)\n",
    "solution=prob.getSolutions()\n",
    "solution"
   ]
  }
 ],
 "metadata": {
  "colab": {
   "authorship_tag": "ABX9TyOw4mfXIcR1lnuwQUFYYWQw",
   "provenance": []
  },
  "kernelspec": {
   "display_name": "Python 3 (ipykernel)",
   "language": "python",
   "name": "python3"
  },
  "language_info": {
   "codemirror_mode": {
    "name": "ipython",
    "version": 3
   },
   "file_extension": ".py",
   "mimetype": "text/x-python",
   "name": "python",
   "nbconvert_exporter": "python",
   "pygments_lexer": "ipython3",
   "version": "3.12.0"
  }
 },
 "nbformat": 4,
 "nbformat_minor": 4
}
