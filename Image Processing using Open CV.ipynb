{
 "cells": [
  {
   "cell_type": "code",
   "execution_count": 1,
   "id": "9c2ae212-e697-4554-a212-040953ba1270",
   "metadata": {},
   "outputs": [],
   "source": [
    "import cv2 as cv\n",
    "import numpy as np"
   ]
  },
  {
   "cell_type": "code",
   "execution_count": 2,
   "id": "5a871518-d9be-4679-8f05-f5e62163ad4b",
   "metadata": {},
   "outputs": [
    {
     "data": {
      "text/plain": [
       "-1"
      ]
     },
     "execution_count": 2,
     "metadata": {},
     "output_type": "execute_result"
    }
   ],
   "source": [
    "img = cv.imread(\"Animal-image.png\")\n",
    "cv.imshow(\"Orignal Image\", img)\n",
    "cv.waitKey(0)"
   ]
  },
  {
   "cell_type": "code",
   "execution_count": 3,
   "id": "9dc73d85-bc53-4b35-b754-e5558dafe163",
   "metadata": {},
   "outputs": [
    {
     "data": {
      "text/plain": [
       "array([[[255, 255, 255],\n",
       "        [255, 255, 255],\n",
       "        [255, 255, 255],\n",
       "        ...,\n",
       "        [255, 255, 255],\n",
       "        [255, 255, 255],\n",
       "        [255, 255, 255]],\n",
       "\n",
       "       [[255, 255, 255],\n",
       "        [255, 255, 255],\n",
       "        [255, 255, 255],\n",
       "        ...,\n",
       "        [255, 255, 255],\n",
       "        [255, 255, 255],\n",
       "        [255, 255, 255]],\n",
       "\n",
       "       [[255, 255, 255],\n",
       "        [255, 255, 255],\n",
       "        [255, 255, 255],\n",
       "        ...,\n",
       "        [255, 255, 255],\n",
       "        [255, 255, 255],\n",
       "        [255, 255, 255]],\n",
       "\n",
       "       ...,\n",
       "\n",
       "       [[255, 255, 255],\n",
       "        [255, 255, 255],\n",
       "        [255, 255, 255],\n",
       "        ...,\n",
       "        [255, 255, 255],\n",
       "        [255, 255, 255],\n",
       "        [255, 255, 255]],\n",
       "\n",
       "       [[255, 255, 255],\n",
       "        [255, 255, 255],\n",
       "        [255, 255, 255],\n",
       "        ...,\n",
       "        [255, 255, 255],\n",
       "        [255, 255, 255],\n",
       "        [255, 255, 255]],\n",
       "\n",
       "       [[255, 255, 255],\n",
       "        [255, 255, 255],\n",
       "        [255, 255, 255],\n",
       "        ...,\n",
       "        [255, 255, 255],\n",
       "        [255, 255, 255],\n",
       "        [255, 255, 255]]], dtype=uint8)"
      ]
     },
     "execution_count": 3,
     "metadata": {},
     "output_type": "execute_result"
    }
   ],
   "source": [
    "img"
   ]
  },
  {
   "cell_type": "code",
   "execution_count": 4,
   "id": "f2cba97e-1818-4bf1-bf88-9043e148dd2d",
   "metadata": {},
   "outputs": [
    {
     "data": {
      "text/plain": [
       "(800, 800, 3)"
      ]
     },
     "execution_count": 4,
     "metadata": {},
     "output_type": "execute_result"
    }
   ],
   "source": [
    "img.shape"
   ]
  },
  {
   "cell_type": "code",
   "execution_count": 5,
   "id": "0f851e83-f593-4a79-a0b1-645be877393b",
   "metadata": {},
   "outputs": [],
   "source": [
    "blue_image = img.copy()"
   ]
  },
  {
   "cell_type": "code",
   "execution_count": 6,
   "id": "0ddcfb8b-ab86-458c-9099-ac7055a1e0ed",
   "metadata": {},
   "outputs": [],
   "source": [
    "blue_image[:,:,1]=0     # Green will be zero\n",
    "blue_image[:,:,2]=0     # Red will be zero"
   ]
  },
  {
   "cell_type": "code",
   "execution_count": 7,
   "id": "8a5ee243-0679-400a-affe-a24cfa9b2608",
   "metadata": {},
   "outputs": [
    {
     "data": {
      "text/plain": [
       "-1"
      ]
     },
     "execution_count": 7,
     "metadata": {},
     "output_type": "execute_result"
    }
   ],
   "source": [
    "cv.imshow(\"Blue Image\", blue_image)\n",
    "cv.imwrite(\"Blue Image.png\", blue_image)\n",
    "cv.waitKey(0)"
   ]
  },
  {
   "cell_type": "code",
   "execution_count": 8,
   "id": "dc6bbedd-4ba7-4e7c-881e-f5170cf8b0a4",
   "metadata": {},
   "outputs": [],
   "source": [
    "green_image = img.copy()"
   ]
  },
  {
   "cell_type": "code",
   "execution_count": 9,
   "id": "86b39197-68f8-47ed-955b-7e0f7af84192",
   "metadata": {},
   "outputs": [],
   "source": [
    "green_image[:,:,0]=0  # Blue will be zero\n",
    "green_image[:,:,2]=0  # Red will be zero"
   ]
  },
  {
   "cell_type": "code",
   "execution_count": 10,
   "id": "3db57401-18fd-4286-8a3c-6fdcf76a1fce",
   "metadata": {},
   "outputs": [
    {
     "data": {
      "text/plain": [
       "-1"
      ]
     },
     "execution_count": 10,
     "metadata": {},
     "output_type": "execute_result"
    }
   ],
   "source": [
    "cv.imshow(\"Green Image\", green_image)\n",
    "cv.imwrite(\"Green Image.png\", green_image)\n",
    "cv.waitKey(0)"
   ]
  },
  {
   "cell_type": "code",
   "execution_count": 11,
   "id": "e5e62428-bfc3-4bd3-a522-bcbc84b2fd00",
   "metadata": {},
   "outputs": [
    {
     "data": {
      "text/plain": [
       "array([[255, 255, 255, ..., 255, 255, 255],\n",
       "       [255, 255, 255, ..., 255, 255, 255],\n",
       "       [255, 255, 255, ..., 255, 255, 255],\n",
       "       ...,\n",
       "       [255, 255, 255, ..., 255, 255, 255],\n",
       "       [255, 255, 255, ..., 255, 255, 255],\n",
       "       [255, 255, 255, ..., 255, 255, 255]], dtype=uint8)"
      ]
     },
     "execution_count": 11,
     "metadata": {},
     "output_type": "execute_result"
    }
   ],
   "source": [
    "img[:,:,1]"
   ]
  },
  {
   "cell_type": "code",
   "execution_count": 12,
   "id": "0b75ccf1-6beb-4b17-8feb-ea618ad59d9a",
   "metadata": {},
   "outputs": [
    {
     "data": {
      "text/plain": [
       "array([[255, 255, 255, ..., 255, 255, 255],\n",
       "       [255, 255, 255, ..., 255, 255, 255],\n",
       "       [255, 255, 255, ..., 255, 255, 255],\n",
       "       ...,\n",
       "       [255, 255, 255, ..., 255, 255, 255],\n",
       "       [255, 255, 255, ..., 255, 255, 255],\n",
       "       [255, 255, 255, ..., 255, 255, 255]], dtype=uint8)"
      ]
     },
     "execution_count": 12,
     "metadata": {},
     "output_type": "execute_result"
    }
   ],
   "source": [
    "img[:,:,2]"
   ]
  },
  {
   "cell_type": "code",
   "execution_count": 13,
   "id": "500e9797-9fa2-4fc7-adaa-b86835cc013f",
   "metadata": {},
   "outputs": [],
   "source": [
    "red_image = img.copy()"
   ]
  },
  {
   "cell_type": "code",
   "execution_count": 14,
   "id": "7e0f7975-805e-4027-bd6e-054f41833943",
   "metadata": {},
   "outputs": [],
   "source": [
    "red_image[:,:,0]=0   # Blue will be zero\n",
    "red_image[:,:,1]=0   # Red will be zero"
   ]
  },
  {
   "cell_type": "code",
   "execution_count": 15,
   "id": "255cf3cc-8027-4331-9e77-0aa7df323b4a",
   "metadata": {},
   "outputs": [
    {
     "data": {
      "text/plain": [
       "-1"
      ]
     },
     "execution_count": 15,
     "metadata": {},
     "output_type": "execute_result"
    }
   ],
   "source": [
    "cv.imshow(\"Red Image\", red_image)\n",
    "cv.imwrite(\"Red Image.png\", red_image)\n",
    "cv.waitKey(0)"
   ]
  },
  {
   "cell_type": "code",
   "execution_count": 16,
   "id": "5a350ecc-99f9-4acc-a292-51353af98adf",
   "metadata": {},
   "outputs": [
    {
     "data": {
      "text/plain": [
       "-1"
      ]
     },
     "execution_count": 16,
     "metadata": {},
     "output_type": "execute_result"
    }
   ],
   "source": [
    "resized_img = cv.resize(img, (500, 500))\n",
    "cv.imshow(\"Resized Image\", resized_img)\n",
    "cv.imwrite(\"Resized Image.png\", resized_img)\n",
    "cv.waitKey(0)"
   ]
  },
  {
   "cell_type": "code",
   "execution_count": 17,
   "id": "c0f27033-97ba-4fcc-a977-aeaaaa6908d6",
   "metadata": {},
   "outputs": [
    {
     "data": {
      "text/plain": [
       "-1"
      ]
     },
     "execution_count": 17,
     "metadata": {},
     "output_type": "execute_result"
    }
   ],
   "source": [
    "rescaled_img = cv.resize(img, None, fx=0.5, fy=0.5)\n",
    "cv.imshow(\"Rescaled Image\", rescaled_img)\n",
    "cv.imshow(\"Orignal Image\" , img)\n",
    "cv.imwrite(\"Rescaled Image.png\", rescaled_img)\n",
    "cv.waitKey(0)"
   ]
  },
  {
   "cell_type": "code",
   "execution_count": 18,
   "id": "2b2a251c-9ebb-4e66-8a6c-c09791ae5c84",
   "metadata": {},
   "outputs": [],
   "source": [
    "col, row = img.shape[:2]\n",
    "rotation_matrix = cv.getRotationMatrix2D((col/2, row/2), 60 , 1)\n",
    "rotated_img = cv.warpAffine(img, rotation_matrix, (col, row))"
   ]
  },
  {
   "cell_type": "code",
   "execution_count": 19,
   "id": "da7e08f4-4fa1-4427-869e-8de5e43b6b74",
   "metadata": {},
   "outputs": [
    {
     "data": {
      "text/plain": [
       "-1"
      ]
     },
     "execution_count": 19,
     "metadata": {},
     "output_type": "execute_result"
    }
   ],
   "source": [
    "cv.imshow(\"rotation Image\", rotated_img)\n",
    "cv.imwrite(\"rotation Image.png\", rotated_img)\n",
    "cv.waitKey(0)"
   ]
  },
  {
   "cell_type": "code",
   "execution_count": 20,
   "id": "ce203f21-1f00-40aa-b4a9-3defc4f7e327",
   "metadata": {},
   "outputs": [],
   "source": [
    "blurred_img = cv.GaussianBlur(img, (7,7), 2)"
   ]
  },
  {
   "cell_type": "code",
   "execution_count": 21,
   "id": "aea47389-431e-4838-9037-5dae1a1ed555",
   "metadata": {},
   "outputs": [
    {
     "data": {
      "text/plain": [
       "-1"
      ]
     },
     "execution_count": 21,
     "metadata": {},
     "output_type": "execute_result"
    }
   ],
   "source": [
    "cv.imshow(\"Blurred Image\", blurred_img)\n",
    "cv.imwrite(\"Blurred Image.png\", blurred_img)\n",
    "cv.waitKey(0)"
   ]
  },
  {
   "cell_type": "code",
   "execution_count": 22,
   "id": "f5baefed-14f6-41d5-8cd1-d48c553ef993",
   "metadata": {},
   "outputs": [],
   "source": [
    "shared_matrix = np.float32([[1, 0.25, 0], [0, 1, 0]])\n",
    "shared_img = cv.warpAffine(img, shared_matrix, (col, row))"
   ]
  },
  {
   "cell_type": "code",
   "execution_count": 23,
   "id": "f01d5960-6c3b-40d0-ae96-3ac9890ccc8c",
   "metadata": {},
   "outputs": [
    {
     "data": {
      "text/plain": [
       "-1"
      ]
     },
     "execution_count": 23,
     "metadata": {},
     "output_type": "execute_result"
    }
   ],
   "source": [
    "cv.imshow(\"Shared Image\", shared_img)\n",
    "cv.imwrite(\"Shared Image.png\", shared_img)\n",
    "cv.waitKey(0)"
   ]
  },
  {
   "cell_type": "code",
   "execution_count": 24,
   "id": "dee62eeb-5365-49b8-8c30-61bc5ec743b5",
   "metadata": {},
   "outputs": [],
   "source": [
    "hsv_image = cv.cvtColor(img, cv.COLOR_BGR2HSV)"
   ]
  },
  {
   "cell_type": "code",
   "execution_count": 25,
   "id": "6c8ecf55-da3c-46ca-a964-4515a676cf17",
   "metadata": {},
   "outputs": [],
   "source": [
    "hsv_image[:,:,0] += 20\n",
    "hsv_image[:,:,1] += 2"
   ]
  },
  {
   "cell_type": "code",
   "execution_count": 26,
   "id": "84364054-3a51-4b13-9eca-bdb952811fa1",
   "metadata": {},
   "outputs": [
    {
     "data": {
      "text/plain": [
       "-1"
      ]
     },
     "execution_count": 26,
     "metadata": {},
     "output_type": "execute_result"
    }
   ],
   "source": [
    "cv.imshow(\"HSV Image\", hsv_image)\n",
    "cv.imwrite(\"HSV Image.png\", hsv_image)\n",
    "cv.waitKey(0)"
   ]
  },
  {
   "cell_type": "code",
   "execution_count": null,
   "id": "4de66ece-5e93-4e4c-b14a-b49cd3d595a3",
   "metadata": {},
   "outputs": [],
   "source": [
    "\n"
   ]
  }
 ],
 "metadata": {
  "kernelspec": {
   "display_name": "Python 3 (ipykernel)",
   "language": "python",
   "name": "python3"
  },
  "language_info": {
   "codemirror_mode": {
    "name": "ipython",
    "version": 3
   },
   "file_extension": ".py",
   "mimetype": "text/x-python",
   "name": "python",
   "nbconvert_exporter": "python",
   "pygments_lexer": "ipython3",
   "version": "3.12.0"
  }
 },
 "nbformat": 4,
 "nbformat_minor": 5
}
