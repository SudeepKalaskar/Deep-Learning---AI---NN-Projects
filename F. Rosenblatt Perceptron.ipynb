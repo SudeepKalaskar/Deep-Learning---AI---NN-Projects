{
 "cells": [
  {
   "cell_type": "code",
   "execution_count": 1,
   "id": "44d00b87-de31-4608-8299-b8da551115dc",
   "metadata": {},
   "outputs": [],
   "source": [
    "import numpy as np"
   ]
  },
  {
   "cell_type": "code",
   "execution_count": 2,
   "id": "9a2706c6-cf4c-4e95-84ca-6ab89caaf7ad",
   "metadata": {},
   "outputs": [],
   "source": [
    "class Perceptron:\n",
    "\n",
    "    def __init__(self, input_d, learning_rate, epochs):\n",
    "        self.lr = learning_rate\n",
    "        self.epochs = epochs\n",
    "        self.weight = np.random.rand(input_d)\n",
    "        self.bias = np.random.rand()\n",
    "\n",
    "    def activation_function(self, x):\n",
    "        return 1 if x >= 1 else 0\n",
    "\n",
    "    def predict(self, input):\n",
    "        weighted_sum = np.dot(input, self.weight)\n",
    "        return self.activation_function(weighted_sum)\n",
    "\n",
    "    def train(self, inp, out):\n",
    "        for i in range(self.epochs):\n",
    "            for j in range(len(inp)):\n",
    "                y_pred = self.predict(inp[j])\n",
    "                error = out[j] - y_pred\n",
    "\n",
    "                self.weight += (self.lr * error * inp[j])\n",
    "                self.bias += (self.lr * error)\n",
    "        print(\"Weight\",self.weight, \"Bias\", self.bias)"
   ]
  },
  {
   "cell_type": "code",
   "execution_count": 3,
   "id": "65bb55de-0f17-4017-bd17-6d2c90a18453",
   "metadata": {},
   "outputs": [],
   "source": [
    "AND = Perceptron(input_d=2, learning_rate=0.1, epochs=1000)"
   ]
  },
  {
   "cell_type": "code",
   "execution_count": 4,
   "id": "ce68edc4-f590-4301-bd21-7761f49ebb5f",
   "metadata": {},
   "outputs": [],
   "source": [
    "inp_data = np.array([[0, 0], [0, 1], [1, 0], [1, 1]])\n",
    "out_data = np.array([0, 0, 0, 1])"
   ]
  },
  {
   "cell_type": "code",
   "execution_count": 5,
   "id": "3ae618a1-264d-4006-b096-775f6cbc5899",
   "metadata": {},
   "outputs": [
    {
     "name": "stdout",
     "output_type": "stream",
     "text": [
      "Weight [0.61201671 0.65937709] Bias 0.20511390351244385\n"
     ]
    }
   ],
   "source": [
    "AND.train(inp_data, out_data)"
   ]
  },
  {
   "cell_type": "code",
   "execution_count": 6,
   "id": "db4336a2-2c6d-40d5-aee8-9b73bcd084cf",
   "metadata": {},
   "outputs": [
    {
     "data": {
      "text/plain": [
       "0"
      ]
     },
     "execution_count": 6,
     "metadata": {},
     "output_type": "execute_result"
    }
   ],
   "source": [
    "AND.predict([0,1])"
   ]
  },
  {
   "cell_type": "code",
   "execution_count": 7,
   "id": "1f06771c-3a8d-44ee-8365-d41328b0a026",
   "metadata": {},
   "outputs": [],
   "source": [
    "OR = Perceptron(input_d=2, learning_rate=0.1, epochs=500)"
   ]
  },
  {
   "cell_type": "code",
   "execution_count": 8,
   "id": "c2ed2c75-513e-4daa-9532-f8138493f34b",
   "metadata": {},
   "outputs": [],
   "source": [
    "inp_data = np.array([[0, 0], [0, 1], [1, 0], [1, 1]])\n",
    "out_data = np.array([0, 1, 1, 1])"
   ]
  },
  {
   "cell_type": "code",
   "execution_count": 9,
   "id": "26ccfb04-2d46-4412-b9b4-a6ed79391936",
   "metadata": {},
   "outputs": [
    {
     "name": "stdout",
     "output_type": "stream",
     "text": [
      "Weight [1.00364806 1.05327179] Bias 1.1016533105653423\n"
     ]
    }
   ],
   "source": [
    "OR.train(inp_data, out_data)"
   ]
  },
  {
   "cell_type": "code",
   "execution_count": 10,
   "id": "1a06e9f5-33f7-4c40-8140-930cfde94117",
   "metadata": {},
   "outputs": [
    {
     "data": {
      "text/plain": [
       "1"
      ]
     },
     "execution_count": 10,
     "metadata": {},
     "output_type": "execute_result"
    }
   ],
   "source": [
    "OR.predict([1, 0])"
   ]
  },
  {
   "cell_type": "code",
   "execution_count": 11,
   "id": "c342c798-0ee5-4627-882c-8f7384dc6293",
   "metadata": {},
   "outputs": [],
   "source": [
    "XOR = Perceptron(input_d=2, learning_rate=0.1, epochs=500)"
   ]
  },
  {
   "cell_type": "code",
   "execution_count": 12,
   "id": "18d16dd8-6f21-4f55-9bb5-3f446715e31d",
   "metadata": {},
   "outputs": [],
   "source": [
    "inp_data = np.array([[0, 0], [0, 1], [1, 0], [1, 1]])\n",
    "out_data = np.array([0, 1, 1, 0])"
   ]
  },
  {
   "cell_type": "code",
   "execution_count": 13,
   "id": "583a3cba-b76e-41db-8d2f-62d8a01aa437",
   "metadata": {},
   "outputs": [
    {
     "name": "stdout",
     "output_type": "stream",
     "text": [
      "Weight [0.67788744 0.61117248] Bias 50.83557897088763\n"
     ]
    }
   ],
   "source": [
    "XOR.train(inp_data, out_data)"
   ]
  },
  {
   "cell_type": "code",
   "execution_count": 14,
   "id": "3520d85b-5a55-4364-b767-5ba1f00dea5b",
   "metadata": {},
   "outputs": [
    {
     "data": {
      "text/plain": [
       "0"
      ]
     },
     "execution_count": 14,
     "metadata": {},
     "output_type": "execute_result"
    }
   ],
   "source": [
    "XOR.predict([1, 0])"
   ]
  },
  {
   "cell_type": "code",
   "execution_count": null,
   "id": "a4d31839-61fd-46b3-a0ae-c56b301bb739",
   "metadata": {},
   "outputs": [],
   "source": []
  }
 ],
 "metadata": {
  "kernelspec": {
   "display_name": "Python 3 (ipykernel)",
   "language": "python",
   "name": "python3"
  },
  "language_info": {
   "codemirror_mode": {
    "name": "ipython",
    "version": 3
   },
   "file_extension": ".py",
   "mimetype": "text/x-python",
   "name": "python",
   "nbconvert_exporter": "python",
   "pygments_lexer": "ipython3",
   "version": "3.12.0"
  },
  "widgets": {
   "application/vnd.jupyter.widget-state+json": {
    "state": {},
    "version_major": 2,
    "version_minor": 0
   }
  }
 },
 "nbformat": 4,
 "nbformat_minor": 5
}
