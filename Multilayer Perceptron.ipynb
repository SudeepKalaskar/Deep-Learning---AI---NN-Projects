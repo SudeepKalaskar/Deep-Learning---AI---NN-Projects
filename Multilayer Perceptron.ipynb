{
 "cells": [
  {
   "cell_type": "code",
   "execution_count": 1,
   "metadata": {
    "executionInfo": {
     "elapsed": 454,
     "status": "ok",
     "timestamp": 1713110574608,
     "user": {
      "displayName": "Chikoo",
      "userId": "02653874572978271731"
     },
     "user_tz": -330
    },
    "id": "KWlrhJT5ft0u"
   },
   "outputs": [],
   "source": [
    "import numpy as np"
   ]
  },
  {
   "cell_type": "code",
   "execution_count": 2,
   "metadata": {
    "executionInfo": {
     "elapsed": 16,
     "status": "ok",
     "timestamp": 1713110575126,
     "user": {
      "displayName": "Chikoo",
      "userId": "02653874572978271731"
     },
     "user_tz": -330
    },
    "id": "VDwg6dN8dDon"
   },
   "outputs": [],
   "source": [
    "def sigmoid(x):\n",
    "  return 1/(1+np.exp(-x))"
   ]
  },
  {
   "cell_type": "code",
   "execution_count": 3,
   "metadata": {
    "executionInfo": {
     "elapsed": 15,
     "status": "ok",
     "timestamp": 1713110575126,
     "user": {
      "displayName": "Chikoo",
      "userId": "02653874572978271731"
     },
     "user_tz": -330
    },
    "id": "DdU7BaUDdDT7"
   },
   "outputs": [],
   "source": [
    "def signoid_derivative(x):\n",
    "  return x*(1-x)"
   ]
  },
  {
   "cell_type": "code",
   "execution_count": 4,
   "metadata": {
    "executionInfo": {
     "elapsed": 15,
     "status": "ok",
     "timestamp": 1713110575126,
     "user": {
      "displayName": "Chikoo",
      "userId": "02653874572978271731"
     },
     "user_tz": -330
    },
    "id": "kQ7mlL5VeIDP"
   },
   "outputs": [],
   "source": [
    "input_size = 2\n",
    "hidden_size = 2\n",
    "output_size = 1"
   ]
  },
  {
   "cell_type": "code",
   "execution_count": 5,
   "metadata": {
    "executionInfo": {
     "elapsed": 16,
     "status": "ok",
     "timestamp": 1713110575127,
     "user": {
      "displayName": "Chikoo",
      "userId": "02653874572978271731"
     },
     "user_tz": -330
    },
    "id": "u8jj-_kzeH4x"
   },
   "outputs": [],
   "source": [
    "input_hidden_weight = np.random.rand(input_size, hidden_size)\n",
    "hidden_output_weight = np.random.rand(hidden_size, output_size)\n",
    "\n",
    "hidden_bias = np.random.rand(hidden_size)\n",
    "output_bias = np.random.rand(output_size)"
   ]
  },
  {
   "cell_type": "code",
   "execution_count": 6,
   "metadata": {
    "colab": {
     "base_uri": "https://localhost:8080/"
    },
    "executionInfo": {
     "elapsed": 16,
     "status": "ok",
     "timestamp": 1713110575127,
     "user": {
      "displayName": "Chikoo",
      "userId": "02653874572978271731"
     },
     "user_tz": -330
    },
    "id": "zV4p4XrleHup",
    "outputId": "e86195c6-d46c-4afd-e306-74d0db00261b"
   },
   "outputs": [
    {
     "data": {
      "text/plain": [
       "array([[0.96436475, 0.87031316],\n",
       "       [0.38109487, 0.79581866]])"
      ]
     },
     "execution_count": 6,
     "metadata": {},
     "output_type": "execute_result"
    }
   ],
   "source": [
    "input_hidden_weight"
   ]
  },
  {
   "cell_type": "code",
   "execution_count": 7,
   "metadata": {
    "colab": {
     "base_uri": "https://localhost:8080/"
    },
    "executionInfo": {
     "elapsed": 14,
     "status": "ok",
     "timestamp": 1713110575127,
     "user": {
      "displayName": "Chikoo",
      "userId": "02653874572978271731"
     },
     "user_tz": -330
    },
    "id": "KmVUg-SYeHjL",
    "outputId": "25cf3fda-3663-4755-a5a6-fac69e98064c"
   },
   "outputs": [
    {
     "data": {
      "text/plain": [
       "array([[0.32663777],\n",
       "       [0.67522399]])"
      ]
     },
     "execution_count": 7,
     "metadata": {},
     "output_type": "execute_result"
    }
   ],
   "source": [
    "hidden_output_weight"
   ]
  },
  {
   "cell_type": "code",
   "execution_count": 8,
   "metadata": {
    "colab": {
     "base_uri": "https://localhost:8080/"
    },
    "executionInfo": {
     "elapsed": 12,
     "status": "ok",
     "timestamp": 1713110575127,
     "user": {
      "displayName": "Chikoo",
      "userId": "02653874572978271731"
     },
     "user_tz": -330
    },
    "id": "pLscUEV-HRl1",
    "outputId": "65968160-f382-4bdb-c021-a73b9be2d9a3"
   },
   "outputs": [
    {
     "data": {
      "text/plain": [
       "array([0.22105813, 0.92531288])"
      ]
     },
     "execution_count": 8,
     "metadata": {},
     "output_type": "execute_result"
    }
   ],
   "source": [
    "hidden_bias"
   ]
  },
  {
   "cell_type": "code",
   "execution_count": 9,
   "metadata": {
    "colab": {
     "base_uri": "https://localhost:8080/"
    },
    "executionInfo": {
     "elapsed": 11,
     "status": "ok",
     "timestamp": 1713110575127,
     "user": {
      "displayName": "Chikoo",
      "userId": "02653874572978271731"
     },
     "user_tz": -330
    },
    "id": "Q2SWD5_8HRg8",
    "outputId": "8ef80068-b6c4-4876-c8df-5295bdcb40f4"
   },
   "outputs": [
    {
     "data": {
      "text/plain": [
       "array([0.24962565])"
      ]
     },
     "execution_count": 9,
     "metadata": {},
     "output_type": "execute_result"
    }
   ],
   "source": [
    "output_bias"
   ]
  },
  {
   "cell_type": "code",
   "execution_count": 10,
   "metadata": {
    "executionInfo": {
     "elapsed": 8,
     "status": "ok",
     "timestamp": 1713110575127,
     "user": {
      "displayName": "Chikoo",
      "userId": "02653874572978271731"
     },
     "user_tz": -330
    },
    "id": "Lj-xLbZnHRen"
   },
   "outputs": [],
   "source": [
    "lr = 0.75\n",
    "epochs = 10000"
   ]
  },
  {
   "cell_type": "code",
   "execution_count": 11,
   "metadata": {
    "executionInfo": {
     "elapsed": 8,
     "status": "ok",
     "timestamp": 1713110575127,
     "user": {
      "displayName": "Chikoo",
      "userId": "02653874572978271731"
     },
     "user_tz": -330
    },
    "id": "N-OPVyroIM7o"
   },
   "outputs": [],
   "source": [
    "train_inp = np.array([[0, 0], [0, 1], [1, 0], [1, 1]])\n",
    "train_out = np.array([[0], [1], [1], [0]])"
   ]
  },
  {
   "cell_type": "code",
   "execution_count": 12,
   "metadata": {
    "colab": {
     "base_uri": "https://localhost:8080/"
    },
    "executionInfo": {
     "elapsed": 675,
     "status": "ok",
     "timestamp": 1713110575794,
     "user": {
      "displayName": "Chikoo",
      "userId": "02653874572978271731"
     },
     "user_tz": -330
    },
    "id": "wqT-j1yDHQzR",
    "outputId": "f3819589-3e2b-4d0d-8459-005b9f91c9ea"
   },
   "outputs": [
    {
     "name": "stdout",
     "output_type": "stream",
     "text": [
      "Epoch: 0 Error: 0.4972981414898444\n",
      "Epoch: 1000 Error: 0.4308342955331658\n",
      "Epoch: 2000 Error: 0.41900987454439986\n",
      "Epoch: 3000 Error: 0.4166489408624554\n",
      "Epoch: 4000 Error: 0.4156548493091252\n",
      "Epoch: 5000 Error: 0.41510869326247085\n",
      "Epoch: 6000 Error: 0.41476322561309253\n",
      "Epoch: 7000 Error: 0.4145248636612106\n",
      "Epoch: 8000 Error: 0.41435040806731804\n",
      "Epoch: 9000 Error: 0.41421715512474844\n",
      "Done!\n"
     ]
    }
   ],
   "source": [
    "for i in range(epochs):\n",
    "  # Feed forward\n",
    "  hidden_layer_input = np.dot(train_inp, input_hidden_weight) + hidden_bias\n",
    "  hidden_layer_output = sigmoid(hidden_layer_input)\n",
    "  output_layer_input = np.dot(hidden_layer_output, hidden_output_weight) + output_bias\n",
    "  output = sigmoid(output_layer_input)\n",
    "\n",
    "  # Backpropagation\n",
    "  error = train_out - output\n",
    "  output_delta = error * signoid_derivative(output)\n",
    "  hidden_delta = np.dot(output_delta, hidden_output_weight.T) * signoid_derivative(hidden_layer_output)\n",
    "\n",
    "  # Update weights\n",
    "  hidden_output_weight += lr * np.dot(hidden_layer_output.T, output_delta)\n",
    "  input_hidden_weight += lr * np.dot(train_inp.T, hidden_delta)\n",
    "\n",
    "  # Print progress\n",
    "  if i % 1000 == 0:\n",
    "    print('Epoch:', i, 'Error:', np.mean(np.abs(error)))\n",
    "\n",
    "print('Done!')\n"
   ]
  },
  {
   "cell_type": "code",
   "execution_count": 13,
   "metadata": {
    "colab": {
     "base_uri": "https://localhost:8080/"
    },
    "executionInfo": {
     "elapsed": 12,
     "status": "ok",
     "timestamp": 1713110575794,
     "user": {
      "displayName": "Chikoo",
      "userId": "02653874572978271731"
     },
     "user_tz": -330
    },
    "id": "4BlPH3AfraRp",
    "outputId": "9d88bf78-e804-43cc-dd39-5e04e7d3716b"
   },
   "outputs": [
    {
     "name": "stdout",
     "output_type": "stream",
     "text": [
      "Hidden layer output: [[0.55504058 0.7161234 ]\n",
      " [0.00918971 0.99601231]\n",
      " [0.99998812 0.99936417]\n",
      " [0.9984053  0.99999357]]\n",
      "Output layer output: [[0.49919204]\n",
      " [0.84379474]\n",
      " [0.3470869 ]\n",
      " [0.34813771]]\n"
     ]
    }
   ],
   "source": [
    "# New data in numpy array\n",
    "new_data = np.array([[0, 0], [0, 1], [1, 0],[1,1]])\n",
    "\n",
    "# Calculate hidden layer output\n",
    "hidden_layer_input = np.dot(new_data, input_hidden_weight) + hidden_bias\n",
    "hidden_layer_output = sigmoid(hidden_layer_input)\n",
    "\n",
    "# Calculate output layer output\n",
    "output_layer_input = np.dot(hidden_layer_output, hidden_output_weight) + output_bias\n",
    "output = sigmoid(output_layer_input)\n",
    "\n",
    "# Print hidden layer output and output layer output\n",
    "print(\"Hidden layer output:\", hidden_layer_output)\n",
    "print(\"Output layer output:\", output)\n"
   ]
  },
  {
   "cell_type": "code",
   "execution_count": 14,
   "metadata": {
    "colab": {
     "base_uri": "https://localhost:8080/"
    },
    "executionInfo": {
     "elapsed": 8,
     "status": "ok",
     "timestamp": 1713110575794,
     "user": {
      "displayName": "Chikoo",
      "userId": "02653874572978271731"
     },
     "user_tz": -330
    },
    "id": "r_OH5BbZUV5b",
    "outputId": "c02ef7a1-353c-4a31-c3a7-b3eea4e6ff38"
   },
   "outputs": [
    {
     "name": "stdout",
     "output_type": "stream",
     "text": [
      "Prediction: [[0.49919204]\n",
      " [0.84379474]\n",
      " [0.3470869 ]\n",
      " [0.34813771]]\n",
      "Correct prediction!\n"
     ]
    }
   ],
   "source": [
    "# Make a prediction with the trained network\n",
    "prediction = output\n",
    "print(\"Prediction:\", prediction)\n",
    "\n",
    "# Check if the prediction is correct\n",
    "if (prediction[0] > prediction[1] and train_out[0] > train_out[1]) or (prediction[0] < prediction[1] and train_out[0] < train_out[1]):\n",
    "  print(\"Correct prediction!\")\n",
    "else:\n",
    "  print(\"Incorrect prediction.\")\n"
   ]
  },
  {
   "cell_type": "code",
   "execution_count": 15,
   "metadata": {
    "executionInfo": {
     "elapsed": 6,
     "status": "ok",
     "timestamp": 1713110575795,
     "user": {
      "displayName": "Chikoo",
      "userId": "02653874572978271731"
     },
     "user_tz": -330
    },
    "id": "Ev3Ua8xMsQio"
   },
   "outputs": [],
   "source": [
    "# It is called neural network which is seprable and it is learned by using hidden output and sigmoid function then new data output is given and final prediction gets."
   ]
  }
 ],
 "metadata": {
  "colab": {
   "authorship_tag": "ABX9TyPq761mUHSmzY1RsFzcUHLS",
   "provenance": []
  },
  "kernelspec": {
   "display_name": "Python 3 (ipykernel)",
   "language": "python",
   "name": "python3"
  },
  "language_info": {
   "codemirror_mode": {
    "name": "ipython",
    "version": 3
   },
   "file_extension": ".py",
   "mimetype": "text/x-python",
   "name": "python",
   "nbconvert_exporter": "python",
   "pygments_lexer": "ipython3",
   "version": "3.12.0"
  }
 },
 "nbformat": 4,
 "nbformat_minor": 4
}
