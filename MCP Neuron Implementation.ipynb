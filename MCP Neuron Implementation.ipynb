{
 "cells": [
  {
   "cell_type": "code",
   "execution_count": 1,
   "id": "9dd3b15c-9eb9-471e-bd59-b31d505f0420",
   "metadata": {},
   "outputs": [],
   "source": [
    "import numpy as np"
   ]
  },
  {
   "cell_type": "code",
   "execution_count": 2,
   "id": "f709147c-73be-40e5-ae64-92d65599f568",
   "metadata": {},
   "outputs": [],
   "source": [
    "AND = np.array([[0, 0], [0, 1], [1, 0], [1, 1]])\n",
    "y_and = np.array([0, 0, 0, 1])"
   ]
  },
  {
   "cell_type": "code",
   "execution_count": 3,
   "id": "89288b4e-5950-4611-8197-fecc2f159df3",
   "metadata": {},
   "outputs": [],
   "source": [
    "def step_function_AND(inp_2d):\n",
    "    return np.array(list(map(lambda x: 1 if np.sum(x)>=1.5 else 0, inp_2d)))"
   ]
  },
  {
   "cell_type": "code",
   "execution_count": 4,
   "id": "a9b73e99-0c66-4f85-9f59-20a26411c656",
   "metadata": {},
   "outputs": [
    {
     "data": {
      "text/plain": [
       "array([0, 0, 0, 1])"
      ]
     },
     "execution_count": 4,
     "metadata": {},
     "output_type": "execute_result"
    }
   ],
   "source": [
    "step_function_AND(AND)"
   ]
  },
  {
   "cell_type": "code",
   "execution_count": 5,
   "id": "ac2b4abc-de54-405f-8c9b-22b5ebc7d687",
   "metadata": {},
   "outputs": [],
   "source": [
    "OR = np.array([[0, 0], [0, 1], [1, 0], [1, 1]])\n",
    "y_or = np.array([0, 1, 1, 1])"
   ]
  },
  {
   "cell_type": "code",
   "execution_count": 6,
   "id": "dd278933-1a62-467f-9b0f-f743bd980628",
   "metadata": {},
   "outputs": [],
   "source": [
    "def step_function_OR(inp_2d):\n",
    "    return np.array(list(map(lambda x: 1 if np.sum(x)>=1 else 0, inp_2d)))"
   ]
  },
  {
   "cell_type": "code",
   "execution_count": 7,
   "id": "61bf2d5d-85d0-43b4-8056-2032b69c9274",
   "metadata": {},
   "outputs": [
    {
     "data": {
      "text/plain": [
       "array([0, 1, 1, 1])"
      ]
     },
     "execution_count": 7,
     "metadata": {},
     "output_type": "execute_result"
    }
   ],
   "source": [
    "step_function_OR(OR)"
   ]
  },
  {
   "cell_type": "code",
   "execution_count": null,
   "id": "fdba979d-fb74-4af5-af40-083541287155",
   "metadata": {},
   "outputs": [],
   "source": []
  }
 ],
 "metadata": {
  "kernelspec": {
   "display_name": "Python 3 (ipykernel)",
   "language": "python",
   "name": "python3"
  },
  "language_info": {
   "codemirror_mode": {
    "name": "ipython",
    "version": 3
   },
   "file_extension": ".py",
   "mimetype": "text/x-python",
   "name": "python",
   "nbconvert_exporter": "python",
   "pygments_lexer": "ipython3",
   "version": "3.12.0"
  },
  "widgets": {
   "application/vnd.jupyter.widget-state+json": {
    "state": {},
    "version_major": 2,
    "version_minor": 0
   }
  }
 },
 "nbformat": 4,
 "nbformat_minor": 5
}
