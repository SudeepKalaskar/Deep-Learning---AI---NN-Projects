{
 "cells": [
  {
   "cell_type": "code",
   "execution_count": 1,
   "id": "90978e76-318c-4701-8170-5b74bd87bf78",
   "metadata": {
    "scrolled": true
   },
   "outputs": [],
   "source": [
    "import numpy as np\n",
    "import tensorflow as tf"
   ]
  },
  {
   "cell_type": "code",
   "execution_count": 2,
   "id": "4fcb47e0-dc1c-44e7-9e23-88c0a9f5d6be",
   "metadata": {},
   "outputs": [],
   "source": [
    "from tensorflow.keras.preprocessing.text import Tokenizer\n",
    "from tensorflow.keras.preprocessing import sequence\n",
    "from tensorflow.keras.models import Sequential\n",
    "from tensorflow.keras.layers import Embedding, SimpleRNN, Dense"
   ]
  },
  {
   "cell_type": "code",
   "execution_count": 3,
   "id": "5c9dcda6-0d25-444f-859f-5f4edbb1b260",
   "metadata": {},
   "outputs": [],
   "source": [
    "import warnings\n",
    "warnings.filterwarnings(\"ignore\")"
   ]
  },
  {
   "cell_type": "code",
   "execution_count": 4,
   "id": "a1b3535c-8045-4822-b28a-accb18c69dd2",
   "metadata": {},
   "outputs": [],
   "source": [
    "data = [\n",
    "    (\"I absolutely loved this movie\", \"positive\"),\n",
    "    (\"The acting was terrible and the story was boring\", \"negative\"),\n",
    "    (\"This film was masterpiece\", \"positive\"),\n",
    "    (\"I couldn't stand to watch it, a complete waste of time\", \"negative\"),\n",
    "    (\"The cinematograpy was stunning, a must watch movie\", \"positive\")\n",
    "]"
   ]
  },
  {
   "cell_type": "code",
   "execution_count": 5,
   "id": "653b1757-d739-4103-a08a-35a6951f26b2",
   "metadata": {},
   "outputs": [],
   "source": [
    "review, sentiment = zip(*data)"
   ]
  },
  {
   "cell_type": "code",
   "execution_count": 6,
   "id": "f65ba6bd-1d71-4384-93f7-fe2a1426c072",
   "metadata": {},
   "outputs": [
    {
     "data": {
      "text/plain": [
       "('I absolutely loved this movie',\n",
       " 'The acting was terrible and the story was boring',\n",
       " 'This film was masterpiece',\n",
       " \"I couldn't stand to watch it, a complete waste of time\",\n",
       " 'The cinematograpy was stunning, a must watch movie')"
      ]
     },
     "execution_count": 6,
     "metadata": {},
     "output_type": "execute_result"
    }
   ],
   "source": [
    "review"
   ]
  },
  {
   "cell_type": "code",
   "execution_count": 7,
   "id": "ec8c4232-3923-4d7b-97c7-94aa3535d321",
   "metadata": {},
   "outputs": [
    {
     "data": {
      "text/plain": [
       "('positive', 'negative', 'positive', 'negative', 'positive')"
      ]
     },
     "execution_count": 7,
     "metadata": {},
     "output_type": "execute_result"
    }
   ],
   "source": [
    "sentiment"
   ]
  },
  {
   "cell_type": "code",
   "execution_count": 8,
   "id": "158cd6a6-d0d4-4268-8b47-6481b7fe8151",
   "metadata": {},
   "outputs": [],
   "source": [
    "tokens = Tokenizer()"
   ]
  },
  {
   "cell_type": "code",
   "execution_count": 9,
   "id": "9f2b55a5-e73d-4d7f-8a87-7a8b0badc7ae",
   "metadata": {},
   "outputs": [],
   "source": [
    "tokens.fit_on_texts(review)"
   ]
  },
  {
   "cell_type": "code",
   "execution_count": 10,
   "id": "893c2e40-f80d-458f-ab67-a6bcff1fd6dd",
   "metadata": {},
   "outputs": [],
   "source": [
    "vocab = len(tokens.word_index)+1"
   ]
  },
  {
   "cell_type": "code",
   "execution_count": 11,
   "id": "1730cc1d-ca5e-4028-a8bb-4d55e7317821",
   "metadata": {},
   "outputs": [
    {
     "data": {
      "text/plain": [
       "28"
      ]
     },
     "execution_count": 11,
     "metadata": {},
     "output_type": "execute_result"
    }
   ],
   "source": [
    "vocab"
   ]
  },
  {
   "cell_type": "code",
   "execution_count": 12,
   "id": "613e8287-ade5-449b-a38b-1b8a43b4926f",
   "metadata": {
    "scrolled": true
   },
   "outputs": [
    {
     "data": {
      "text/plain": [
       "{'was': 1,\n",
       " 'the': 2,\n",
       " 'i': 3,\n",
       " 'this': 4,\n",
       " 'movie': 5,\n",
       " 'watch': 6,\n",
       " 'a': 7,\n",
       " 'absolutely': 8,\n",
       " 'loved': 9,\n",
       " 'acting': 10,\n",
       " 'terrible': 11,\n",
       " 'and': 12,\n",
       " 'story': 13,\n",
       " 'boring': 14,\n",
       " 'film': 15,\n",
       " 'masterpiece': 16,\n",
       " \"couldn't\": 17,\n",
       " 'stand': 18,\n",
       " 'to': 19,\n",
       " 'it': 20,\n",
       " 'complete': 21,\n",
       " 'waste': 22,\n",
       " 'of': 23,\n",
       " 'time': 24,\n",
       " 'cinematograpy': 25,\n",
       " 'stunning': 26,\n",
       " 'must': 27}"
      ]
     },
     "execution_count": 12,
     "metadata": {},
     "output_type": "execute_result"
    }
   ],
   "source": [
    "tokens.word_index"
   ]
  },
  {
   "cell_type": "code",
   "execution_count": 13,
   "id": "518da798-ed01-4113-866d-1464d9db63b2",
   "metadata": {},
   "outputs": [],
   "source": [
    "seq = tokens.texts_to_sequences(review)"
   ]
  },
  {
   "cell_type": "code",
   "execution_count": 14,
   "id": "b377b4f8-9636-4700-a103-c840e701a9bc",
   "metadata": {
    "scrolled": true
   },
   "outputs": [
    {
     "data": {
      "text/plain": [
       "[[3, 8, 9, 4, 5],\n",
       " [2, 10, 1, 11, 12, 2, 13, 1, 14],\n",
       " [4, 15, 1, 16],\n",
       " [3, 17, 18, 19, 6, 20, 7, 21, 22, 23, 24],\n",
       " [2, 25, 1, 26, 7, 27, 6, 5]]"
      ]
     },
     "execution_count": 14,
     "metadata": {},
     "output_type": "execute_result"
    }
   ],
   "source": [
    "seq"
   ]
  },
  {
   "cell_type": "code",
   "execution_count": 15,
   "id": "3da9191e-b458-4520-98bc-a1dc10d25956",
   "metadata": {},
   "outputs": [],
   "source": [
    "max_len = max([len(i) for i in seq])"
   ]
  },
  {
   "cell_type": "code",
   "execution_count": 16,
   "id": "c282f9f2-0411-43a3-b0d8-fab773a4037f",
   "metadata": {},
   "outputs": [
    {
     "data": {
      "text/plain": [
       "11"
      ]
     },
     "execution_count": 16,
     "metadata": {},
     "output_type": "execute_result"
    }
   ],
   "source": [
    "max_len"
   ]
  },
  {
   "cell_type": "code",
   "execution_count": 17,
   "id": "853d50b9-9162-4f7e-92f9-9d844787e933",
   "metadata": {},
   "outputs": [],
   "source": [
    "pad_seq = sequence.pad_sequences(seq, maxlen=max_len, padding=\"post\")"
   ]
  },
  {
   "cell_type": "code",
   "execution_count": 18,
   "id": "98ef3cd7-d24d-476e-8577-66b6cebe7b54",
   "metadata": {},
   "outputs": [
    {
     "data": {
      "text/plain": [
       "array([[ 3,  8,  9,  4,  5,  0,  0,  0,  0,  0,  0],\n",
       "       [ 2, 10,  1, 11, 12,  2, 13,  1, 14,  0,  0],\n",
       "       [ 4, 15,  1, 16,  0,  0,  0,  0,  0,  0,  0],\n",
       "       [ 3, 17, 18, 19,  6, 20,  7, 21, 22, 23, 24],\n",
       "       [ 2, 25,  1, 26,  7, 27,  6,  5,  0,  0,  0]])"
      ]
     },
     "execution_count": 18,
     "metadata": {},
     "output_type": "execute_result"
    }
   ],
   "source": [
    "pad_seq"
   ]
  },
  {
   "cell_type": "code",
   "execution_count": 19,
   "id": "acf39350-71aa-4e81-9e16-6d2bbafba8eb",
   "metadata": {},
   "outputs": [],
   "source": [
    "labels = np.array([1 if i == \"positive\" else 0 for i in sentiment])"
   ]
  },
  {
   "cell_type": "code",
   "execution_count": 20,
   "id": "e86b0c68-772d-448d-94a8-70985a6aca2c",
   "metadata": {},
   "outputs": [
    {
     "data": {
      "text/plain": [
       "array([1, 0, 1, 0, 1])"
      ]
     },
     "execution_count": 20,
     "metadata": {},
     "output_type": "execute_result"
    }
   ],
   "source": [
    "labels"
   ]
  },
  {
   "cell_type": "code",
   "execution_count": 21,
   "id": "896e4944-92f6-4d46-aced-03d4afea8764",
   "metadata": {},
   "outputs": [],
   "source": [
    "model = Sequential([\n",
    "    Embedding(vocab, 20, input_length=max_len),\n",
    "    SimpleRNN(20),\n",
    "    Dense(1, activation=\"sigmoid\")\n",
    "])"
   ]
  },
  {
   "cell_type": "code",
   "execution_count": 22,
   "id": "ae8264d6-4f3c-4fc7-8df2-88cb2d28a2f0",
   "metadata": {},
   "outputs": [],
   "source": [
    "model.compile(optimizer=\"adam\", loss=\"binary_crossentropy\", metrics=[\"accuracy\"])"
   ]
  },
  {
   "cell_type": "code",
   "execution_count": 23,
   "id": "c5ea973a-f624-4adb-8fd6-d8cf0aa5d201",
   "metadata": {
    "scrolled": true
   },
   "outputs": [
    {
     "name": "stdout",
     "output_type": "stream",
     "text": [
      "Epoch 1/30\n",
      "\u001b[1m1/1\u001b[0m \u001b[32m━━━━━━━━━━━━━━━━━━━━\u001b[0m\u001b[37m\u001b[0m \u001b[1m5s\u001b[0m 5s/step - accuracy: 0.8000 - loss: 0.6119\n",
      "Epoch 2/30\n",
      "\u001b[1m1/1\u001b[0m \u001b[32m━━━━━━━━━━━━━━━━━━━━\u001b[0m\u001b[37m\u001b[0m \u001b[1m0s\u001b[0m 69ms/step - accuracy: 0.8000 - loss: 0.5834\n",
      "Epoch 3/30\n",
      "\u001b[1m1/1\u001b[0m \u001b[32m━━━━━━━━━━━━━━━━━━━━\u001b[0m\u001b[37m\u001b[0m \u001b[1m0s\u001b[0m 89ms/step - accuracy: 0.8000 - loss: 0.5562\n",
      "Epoch 4/30\n",
      "\u001b[1m1/1\u001b[0m \u001b[32m━━━━━━━━━━━━━━━━━━━━\u001b[0m\u001b[37m\u001b[0m \u001b[1m0s\u001b[0m 117ms/step - accuracy: 0.8000 - loss: 0.5302\n",
      "Epoch 5/30\n",
      "\u001b[1m1/1\u001b[0m \u001b[32m━━━━━━━━━━━━━━━━━━━━\u001b[0m\u001b[37m\u001b[0m \u001b[1m0s\u001b[0m 84ms/step - accuracy: 1.0000 - loss: 0.5048\n",
      "Epoch 6/30\n",
      "\u001b[1m1/1\u001b[0m \u001b[32m━━━━━━━━━━━━━━━━━━━━\u001b[0m\u001b[37m\u001b[0m \u001b[1m0s\u001b[0m 64ms/step - accuracy: 1.0000 - loss: 0.4794\n",
      "Epoch 7/30\n",
      "\u001b[1m1/1\u001b[0m \u001b[32m━━━━━━━━━━━━━━━━━━━━\u001b[0m\u001b[37m\u001b[0m \u001b[1m0s\u001b[0m 114ms/step - accuracy: 1.0000 - loss: 0.4536\n",
      "Epoch 8/30\n",
      "\u001b[1m1/1\u001b[0m \u001b[32m━━━━━━━━━━━━━━━━━━━━\u001b[0m\u001b[37m\u001b[0m \u001b[1m0s\u001b[0m 95ms/step - accuracy: 1.0000 - loss: 0.4272\n",
      "Epoch 9/30\n",
      "\u001b[1m1/1\u001b[0m \u001b[32m━━━━━━━━━━━━━━━━━━━━\u001b[0m\u001b[37m\u001b[0m \u001b[1m0s\u001b[0m 117ms/step - accuracy: 1.0000 - loss: 0.4004\n",
      "Epoch 10/30\n",
      "\u001b[1m1/1\u001b[0m \u001b[32m━━━━━━━━━━━━━━━━━━━━\u001b[0m\u001b[37m\u001b[0m \u001b[1m0s\u001b[0m 90ms/step - accuracy: 1.0000 - loss: 0.3734\n",
      "Epoch 11/30\n",
      "\u001b[1m1/1\u001b[0m \u001b[32m━━━━━━━━━━━━━━━━━━━━\u001b[0m\u001b[37m\u001b[0m \u001b[1m0s\u001b[0m 178ms/step - accuracy: 1.0000 - loss: 0.3466\n",
      "Epoch 12/30\n",
      "\u001b[1m1/1\u001b[0m \u001b[32m━━━━━━━━━━━━━━━━━━━━\u001b[0m\u001b[37m\u001b[0m \u001b[1m0s\u001b[0m 89ms/step - accuracy: 1.0000 - loss: 0.3201\n",
      "Epoch 13/30\n",
      "\u001b[1m1/1\u001b[0m \u001b[32m━━━━━━━━━━━━━━━━━━━━\u001b[0m\u001b[37m\u001b[0m \u001b[1m0s\u001b[0m 104ms/step - accuracy: 1.0000 - loss: 0.2946\n",
      "Epoch 14/30\n",
      "\u001b[1m1/1\u001b[0m \u001b[32m━━━━━━━━━━━━━━━━━━━━\u001b[0m\u001b[37m\u001b[0m \u001b[1m0s\u001b[0m 84ms/step - accuracy: 1.0000 - loss: 0.2702\n",
      "Epoch 15/30\n",
      "\u001b[1m1/1\u001b[0m \u001b[32m━━━━━━━━━━━━━━━━━━━━\u001b[0m\u001b[37m\u001b[0m \u001b[1m0s\u001b[0m 49ms/step - accuracy: 1.0000 - loss: 0.2472\n",
      "Epoch 16/30\n",
      "\u001b[1m1/1\u001b[0m \u001b[32m━━━━━━━━━━━━━━━━━━━━\u001b[0m\u001b[37m\u001b[0m \u001b[1m0s\u001b[0m 76ms/step - accuracy: 1.0000 - loss: 0.2256\n",
      "Epoch 17/30\n",
      "\u001b[1m1/1\u001b[0m \u001b[32m━━━━━━━━━━━━━━━━━━━━\u001b[0m\u001b[37m\u001b[0m \u001b[1m0s\u001b[0m 96ms/step - accuracy: 1.0000 - loss: 0.2056\n",
      "Epoch 18/30\n",
      "\u001b[1m1/1\u001b[0m \u001b[32m━━━━━━━━━━━━━━━━━━━━\u001b[0m\u001b[37m\u001b[0m \u001b[1m0s\u001b[0m 92ms/step - accuracy: 1.0000 - loss: 0.1870\n",
      "Epoch 19/30\n",
      "\u001b[1m1/1\u001b[0m \u001b[32m━━━━━━━━━━━━━━━━━━━━\u001b[0m\u001b[37m\u001b[0m \u001b[1m0s\u001b[0m 93ms/step - accuracy: 1.0000 - loss: 0.1698\n",
      "Epoch 20/30\n",
      "\u001b[1m1/1\u001b[0m \u001b[32m━━━━━━━━━━━━━━━━━━━━\u001b[0m\u001b[37m\u001b[0m \u001b[1m0s\u001b[0m 86ms/step - accuracy: 1.0000 - loss: 0.1540\n",
      "Epoch 21/30\n",
      "\u001b[1m1/1\u001b[0m \u001b[32m━━━━━━━━━━━━━━━━━━━━\u001b[0m\u001b[37m\u001b[0m \u001b[1m0s\u001b[0m 68ms/step - accuracy: 1.0000 - loss: 0.1397\n",
      "Epoch 22/30\n",
      "\u001b[1m1/1\u001b[0m \u001b[32m━━━━━━━━━━━━━━━━━━━━\u001b[0m\u001b[37m\u001b[0m \u001b[1m0s\u001b[0m 65ms/step - accuracy: 1.0000 - loss: 0.1268\n",
      "Epoch 23/30\n",
      "\u001b[1m1/1\u001b[0m \u001b[32m━━━━━━━━━━━━━━━━━━━━\u001b[0m\u001b[37m\u001b[0m \u001b[1m0s\u001b[0m 99ms/step - accuracy: 1.0000 - loss: 0.1154\n",
      "Epoch 24/30\n",
      "\u001b[1m1/1\u001b[0m \u001b[32m━━━━━━━━━━━━━━━━━━━━\u001b[0m\u001b[37m\u001b[0m \u001b[1m0s\u001b[0m 85ms/step - accuracy: 1.0000 - loss: 0.1053\n",
      "Epoch 25/30\n",
      "\u001b[1m1/1\u001b[0m \u001b[32m━━━━━━━━━━━━━━━━━━━━\u001b[0m\u001b[37m\u001b[0m \u001b[1m0s\u001b[0m 98ms/step - accuracy: 1.0000 - loss: 0.0965\n",
      "Epoch 26/30\n",
      "\u001b[1m1/1\u001b[0m \u001b[32m━━━━━━━━━━━━━━━━━━━━\u001b[0m\u001b[37m\u001b[0m \u001b[1m0s\u001b[0m 91ms/step - accuracy: 1.0000 - loss: 0.0888\n",
      "Epoch 27/30\n",
      "\u001b[1m1/1\u001b[0m \u001b[32m━━━━━━━━━━━━━━━━━━━━\u001b[0m\u001b[37m\u001b[0m \u001b[1m0s\u001b[0m 102ms/step - accuracy: 1.0000 - loss: 0.0820\n",
      "Epoch 28/30\n",
      "\u001b[1m1/1\u001b[0m \u001b[32m━━━━━━━━━━━━━━━━━━━━\u001b[0m\u001b[37m\u001b[0m \u001b[1m0s\u001b[0m 109ms/step - accuracy: 1.0000 - loss: 0.0761\n",
      "Epoch 29/30\n",
      "\u001b[1m1/1\u001b[0m \u001b[32m━━━━━━━━━━━━━━━━━━━━\u001b[0m\u001b[37m\u001b[0m \u001b[1m0s\u001b[0m 100ms/step - accuracy: 1.0000 - loss: 0.0709\n",
      "Epoch 30/30\n",
      "\u001b[1m1/1\u001b[0m \u001b[32m━━━━━━━━━━━━━━━━━━━━\u001b[0m\u001b[37m\u001b[0m \u001b[1m0s\u001b[0m 100ms/step - accuracy: 1.0000 - loss: 0.0663\n"
     ]
    },
    {
     "data": {
      "text/plain": [
       "<keras.src.callbacks.history.History at 0x25b5512adb0>"
      ]
     },
     "execution_count": 23,
     "metadata": {},
     "output_type": "execute_result"
    }
   ],
   "source": [
    "model.fit(pad_seq, labels, epochs=30)"
   ]
  },
  {
   "cell_type": "code",
   "execution_count": 24,
   "id": "ce6b8a42-ed08-43cd-b08f-a80582e7bb20",
   "metadata": {},
   "outputs": [],
   "source": [
    "new_review = \"Incredible performance and gripping storyline\""
   ]
  },
  {
   "cell_type": "code",
   "execution_count": 25,
   "id": "7cdee6ac-4f10-4016-aae5-e3eaef4ebe79",
   "metadata": {},
   "outputs": [],
   "source": [
    "new_seq = tokens.texts_to_sequences([new_review])"
   ]
  },
  {
   "cell_type": "code",
   "execution_count": 26,
   "id": "7298bc90-002c-45fd-90aa-145e6945c773",
   "metadata": {},
   "outputs": [
    {
     "data": {
      "text/plain": [
       "[[12]]"
      ]
     },
     "execution_count": 26,
     "metadata": {},
     "output_type": "execute_result"
    }
   ],
   "source": [
    "new_seq"
   ]
  },
  {
   "cell_type": "code",
   "execution_count": 27,
   "id": "a6f11551-684e-4385-83e4-6bedc40fe7a0",
   "metadata": {},
   "outputs": [],
   "source": [
    "new_pad_seq = sequence.pad_sequences(new_seq, maxlen=max_len, padding=\"post\")"
   ]
  },
  {
   "cell_type": "code",
   "execution_count": 28,
   "id": "6ce79c6a-9079-4014-86ec-05474a376a58",
   "metadata": {},
   "outputs": [
    {
     "data": {
      "text/plain": [
       "array([[12,  0,  0,  0,  0,  0,  0,  0,  0,  0,  0]])"
      ]
     },
     "execution_count": 28,
     "metadata": {},
     "output_type": "execute_result"
    }
   ],
   "source": [
    "new_pad_seq"
   ]
  },
  {
   "cell_type": "code",
   "execution_count": 29,
   "id": "a5eb96bd-0977-4682-bb2f-3acef265353a",
   "metadata": {},
   "outputs": [
    {
     "name": "stdout",
     "output_type": "stream",
     "text": [
      "\u001b[1m1/1\u001b[0m \u001b[32m━━━━━━━━━━━━━━━━━━━━\u001b[0m\u001b[37m\u001b[0m \u001b[1m0s\u001b[0m 467ms/step\n"
     ]
    },
    {
     "data": {
      "text/plain": [
       "array([[1.]], dtype=float32)"
      ]
     },
     "execution_count": 29,
     "metadata": {},
     "output_type": "execute_result"
    }
   ],
   "source": [
    "np.round(model.predict(new_pad_seq))"
   ]
  },
  {
   "cell_type": "code",
   "execution_count": 30,
   "id": "a9a8af79-b163-40af-87dc-e27a21918aea",
   "metadata": {},
   "outputs": [],
   "source": [
    "dummy = \"The movie was very good, must recommended\""
   ]
  },
  {
   "cell_type": "code",
   "execution_count": 31,
   "id": "b4f1bb50-090d-4cee-9398-8e48e4e520f3",
   "metadata": {},
   "outputs": [],
   "source": [
    "dummy_seq = tokens.texts_to_sequences([dummy])"
   ]
  },
  {
   "cell_type": "code",
   "execution_count": 32,
   "id": "98ba79d8-b100-4a7c-9e4f-461c241700bc",
   "metadata": {},
   "outputs": [
    {
     "data": {
      "text/plain": [
       "[[2, 5, 1, 27]]"
      ]
     },
     "execution_count": 32,
     "metadata": {},
     "output_type": "execute_result"
    }
   ],
   "source": [
    "dummy_seq"
   ]
  },
  {
   "cell_type": "code",
   "execution_count": 33,
   "id": "44c193ba-f93f-44ea-bafa-46ebdbfaf509",
   "metadata": {},
   "outputs": [],
   "source": [
    "dummy_seq_pad = sequence.pad_sequences(dummy_seq, maxlen=max_len, padding=\"post\")"
   ]
  },
  {
   "cell_type": "code",
   "execution_count": 34,
   "id": "18432ed0-5dc7-4c9c-a5de-36b21a3afd9d",
   "metadata": {},
   "outputs": [
    {
     "data": {
      "text/plain": [
       "array([[ 2,  5,  1, 27,  0,  0,  0,  0,  0,  0,  0]])"
      ]
     },
     "execution_count": 34,
     "metadata": {},
     "output_type": "execute_result"
    }
   ],
   "source": [
    "dummy_seq_pad"
   ]
  },
  {
   "cell_type": "code",
   "execution_count": 35,
   "id": "89b63d87-e2f2-4d3f-b7b5-fcae650dd436",
   "metadata": {},
   "outputs": [
    {
     "name": "stdout",
     "output_type": "stream",
     "text": [
      "\u001b[1m1/1\u001b[0m \u001b[32m━━━━━━━━━━━━━━━━━━━━\u001b[0m\u001b[37m\u001b[0m \u001b[1m0s\u001b[0m 83ms/step\n"
     ]
    },
    {
     "data": {
      "text/plain": [
       "array([[1.]], dtype=float32)"
      ]
     },
     "execution_count": 35,
     "metadata": {},
     "output_type": "execute_result"
    }
   ],
   "source": [
    "np.round(model.predict(dummy_seq_pad))"
   ]
  },
  {
   "cell_type": "code",
   "execution_count": null,
   "id": "8421a396-6a21-4f9a-91c0-db38831722df",
   "metadata": {},
   "outputs": [],
   "source": []
  }
 ],
 "metadata": {
  "kernelspec": {
   "display_name": "Python 3 (ipykernel)",
   "language": "python",
   "name": "python3"
  },
  "language_info": {
   "codemirror_mode": {
    "name": "ipython",
    "version": 3
   },
   "file_extension": ".py",
   "mimetype": "text/x-python",
   "name": "python",
   "nbconvert_exporter": "python",
   "pygments_lexer": "ipython3",
   "version": "3.12.0"
  },
  "widgets": {
   "application/vnd.jupyter.widget-state+json": {
    "state": {},
    "version_major": 2,
    "version_minor": 0
   }
  }
 },
 "nbformat": 4,
 "nbformat_minor": 5
}
