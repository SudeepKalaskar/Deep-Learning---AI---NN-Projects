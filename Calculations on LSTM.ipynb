{
 "cells": [
  {
   "cell_type": "code",
   "execution_count": 1,
   "id": "3abf49b9-a244-43b4-b7b9-49e899ccd9a4",
   "metadata": {},
   "outputs": [],
   "source": [
    "import numpy as np"
   ]
  },
  {
   "cell_type": "code",
   "execution_count": 2,
   "id": "3e37e03a-91f7-423d-ba50-ae58d714fbb9",
   "metadata": {},
   "outputs": [],
   "source": [
    "def sigmoid(x):\n",
    "    return 1/(1+np.exp(-x))"
   ]
  },
  {
   "cell_type": "code",
   "execution_count": 3,
   "id": "e7be4f8d-f9ed-4144-af98-eb43be9d8808",
   "metadata": {},
   "outputs": [],
   "source": [
    "x = 2.779"
   ]
  },
  {
   "cell_type": "code",
   "execution_count": 4,
   "id": "06a3d977-3f44-4b99-a240-a84e529dfc94",
   "metadata": {
    "scrolled": true
   },
   "outputs": [
    {
     "data": {
      "text/plain": [
       "0.9415304178680051"
      ]
     },
     "execution_count": 4,
     "metadata": {},
     "output_type": "execute_result"
    }
   ],
   "source": [
    "sigmoid(x)"
   ]
  },
  {
   "cell_type": "code",
   "execution_count": 5,
   "id": "3cf90676-41b1-4816-a10b-d5cd3c873926",
   "metadata": {},
   "outputs": [
    {
     "data": {
      "text/plain": [
       "1.8830608357360101"
      ]
     },
     "execution_count": 5,
     "metadata": {},
     "output_type": "execute_result"
    }
   ],
   "source": [
    "2*0.9415304178680051"
   ]
  },
  {
   "cell_type": "code",
   "execution_count": 6,
   "id": "770ebb05-956b-42ed-a156-f48ec257af7e",
   "metadata": {},
   "outputs": [
    {
     "data": {
      "text/plain": [
       "0.8797431375322491"
      ]
     },
     "execution_count": 6,
     "metadata": {},
     "output_type": "execute_result"
    }
   ],
   "source": [
    "sigmoid(1.99)"
   ]
  },
  {
   "cell_type": "code",
   "execution_count": 7,
   "id": "9de73416-6255-412c-861d-2781c2636cc5",
   "metadata": {},
   "outputs": [],
   "source": [
    "def tanh(x):\n",
    "    return (np.exp(x)-np.exp(-x))/(np.exp(x)+np.exp(-x))"
   ]
  },
  {
   "cell_type": "code",
   "execution_count": 8,
   "id": "c444280a-07e2-4fba-a715-6268a44ef306",
   "metadata": {},
   "outputs": [
    {
     "data": {
      "text/plain": [
       "0.9553731226019354"
      ]
     },
     "execution_count": 8,
     "metadata": {},
     "output_type": "execute_result"
    }
   ],
   "source": [
    "tanh(1.89)"
   ]
  },
  {
   "cell_type": "code",
   "execution_count": 9,
   "id": "780e01ba-8145-4306-b8df-d02cfcd812df",
   "metadata": {},
   "outputs": [
    {
     "data": {
      "text/plain": [
       "0.835715"
      ]
     },
     "execution_count": 9,
     "metadata": {},
     "output_type": "execute_result"
    }
   ],
   "source": [
    "0.8797 * 0.95"
   ]
  },
  {
   "cell_type": "code",
   "execution_count": 10,
   "id": "820b3d69-2fd4-41b2-925c-833ee52d1bbe",
   "metadata": {},
   "outputs": [
    {
     "data": {
      "text/plain": [
       "0.8721384336809187"
      ]
     },
     "execution_count": 10,
     "metadata": {},
     "output_type": "execute_result"
    }
   ],
   "source": [
    "sigmoid(1.92)"
   ]
  },
  {
   "cell_type": "code",
   "execution_count": 11,
   "id": "79e8b6be-72cb-417f-a806-53a82722a6ea",
   "metadata": {},
   "outputs": [
    {
     "data": {
      "text/plain": [
       "0.8643383099999999"
      ]
     },
     "execution_count": 11,
     "metadata": {},
     "output_type": "execute_result"
    }
   ],
   "source": [
    "0.8721 * 0.9911"
   ]
  },
  {
   "cell_type": "code",
   "execution_count": null,
   "id": "f2572dce-b5c1-4fc6-8f4e-fd5c64a836f5",
   "metadata": {},
   "outputs": [],
   "source": []
  }
 ],
 "metadata": {
  "kernelspec": {
   "display_name": "Python 3 (ipykernel)",
   "language": "python",
   "name": "python3"
  },
  "language_info": {
   "codemirror_mode": {
    "name": "ipython",
    "version": 3
   },
   "file_extension": ".py",
   "mimetype": "text/x-python",
   "name": "python",
   "nbconvert_exporter": "python",
   "pygments_lexer": "ipython3",
   "version": "3.12.0"
  }
 },
 "nbformat": 4,
 "nbformat_minor": 5
}
