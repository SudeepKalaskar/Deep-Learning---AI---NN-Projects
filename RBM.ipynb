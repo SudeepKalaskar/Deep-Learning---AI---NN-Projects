{
  "cells": [
    {
      "cell_type": "code",
      "execution_count": 1,
      "metadata": {
        "colab": {
          "base_uri": "https://localhost:8080/"
        },
        "id": "BJ1UFwGnDW-F",
        "outputId": "029bd441-4772-4803-851f-b6db8f9563f2"
      },
      "outputs": [
        {
          "name": "stdout",
          "output_type": "stream",
          "text": [
            "WARNING:tensorflow:From c:\\Users\\Soft\\AppData\\Local\\Programs\\Python\\Python311\\Lib\\site-packages\\keras\\src\\losses.py:2976: The name tf.losses.sparse_softmax_cross_entropy is deprecated. Please use tf.compat.v1.losses.sparse_softmax_cross_entropy instead.\n",
            "\n",
            "Downloading data from https://storage.googleapis.com/tensorflow/tf-keras-datasets/mnist.npz\n",
            "11490434/11490434 [==============================] - 23s 2us/step\n",
            "Epoch 1/10 completed\n",
            "Epoch 2/10 completed\n",
            "Epoch 3/10 completed\n",
            "Epoch 4/10 completed\n",
            "Epoch 5/10 completed\n",
            "Epoch 6/10 completed\n",
            "Epoch 7/10 completed\n",
            "Epoch 8/10 completed\n",
            "Epoch 9/10 completed\n",
            "Epoch 10/10 completed\n"
          ]
        }
      ],
      "source": [
        "import tensorflow as tf\n",
        "import numpy as  np\n",
        "from tensorflow.keras.datasets import mnist\n",
        "\n",
        "\n",
        "(train_images,_), (test_images, _) = mnist.load_data()\n",
        "\n",
        "\n",
        "train_images = train_images.astype(np.float32)/255.0\n",
        "test_images = test_images.astype(np.float32)/255.0\n",
        "\n",
        "\n",
        "train_images = train_images.reshape((-1, 784))\n",
        "test_images = test_images.reshape((-1, 784))\n",
        "\n",
        "\n",
        "class RBM:\n",
        "  def __init__(self, visible_dim, hidden_dim):\n",
        "    self.W = tf.Variable(tf.random.normal(shape=(visible_dim, hidden_dim)))\n",
        "    self.visible_bias = tf.Variable(tf.zeros([visible_dim]))\n",
        "    self.hidden_bias = tf.Variable(tf.zeros([hidden_dim]))\n",
        "\n",
        "  def sample_hidden(self, visible):\n",
        "    return tf.nn.sigmoid(tf.matmul(visible, self.W)+self.hidden_bias)\n",
        "\n",
        "  def sample_visible(self, hidden):\n",
        "    return tf.nn.sigmoid(tf.matmul(hidden, tf.transpose(self.W))+self.visible_bias)\n",
        "\n",
        "  def CD(self, v0, k=1):\n",
        "    for i in range(k):\n",
        "      h0 = self.sample_hidden(v0)\n",
        "      v1 = self.sample_visible(h0)\n",
        "      h1 = self.sample_hidden(v1)\n",
        "\n",
        "    pos = tf.matmul(tf.transpose(v0), h0)\n",
        "    neg = tf.matmul(tf.transpose(v1), h1)\n",
        "\n",
        "    new_W = pos - neg\n",
        "    new_vis_bias = tf.reduce_mean(v0 - v1, axis=0)\n",
        "    new_hidd_bias = tf.reduce_mean(h0 - h1, axis=0)\n",
        "\n",
        "    self.W.assign_add(0.1 * new_W)\n",
        "    self.visible_bias.assign_add(0.1 * new_vis_bias)\n",
        "    self.hidden_bias.assign_add(0.1 * new_hidd_bias)\n",
        "\n",
        "\n",
        "visible_dim = train_images.shape[1]\n",
        "hidden_dim = 128\n",
        "\n",
        "rbm = RBM(visible_dim, hidden_dim)\n",
        "\n",
        "epochs = 10\n",
        "batch_size = 128\n",
        "batches = train_images.shape[0] // batch_size\n",
        "\n",
        "for i in range(epochs):\n",
        "  for j in range(batches):\n",
        "    batch_data = train_images[j*batch_size : (j+1) * batch_size]\n",
        "    rbm.CD(batch_data)\n",
        "  print(\"Epoch {}/{} completed\".format(i + 1, epochs))"
      ]
    },
    {
      "cell_type": "code",
      "execution_count": 2,
      "metadata": {
        "id": "FF_D9ksRHDvS"
      },
      "outputs": [],
      "source": [
        "n = 10\n",
        "test_img = test_images[:n]\n",
        "for i in range(10):\n",
        "  image = test_img[i]\n",
        "  image = image.reshape(-1, 784)\n",
        "  for j in range(100):\n",
        "    image = rbm.sample_visible(rbm.sample_hidden(image))\n",
        "\n",
        "  resonstructed_image = image.numpy().reshape(28, 28)*255.0\n",
        "  resonstructed_image = resonstructed_image.astype(np.int32)"
      ]
    },
    {
      "cell_type": "code",
      "execution_count": 3,
      "metadata": {
        "id": "BaBIqdacKIy3"
      },
      "outputs": [],
      "source": [
        "import matplotlib.pyplot as plt"
      ]
    },
    {
      "cell_type": "code",
      "execution_count": 15,
      "metadata": {
        "colab": {
          "base_uri": "https://localhost:8080/",
          "height": 430
        },
        "id": "x6aCI437NGgE",
        "outputId": "cbdaa2d6-154f-4bc7-ea6a-f9fbbcfb15cc"
      },
      "outputs": [
        {
          "data": {
            "image/png": "[encoded data removed]",
            "text/plain": [
              "<Figure size 640x480 with 1 Axes>"
            ]
          },
          "metadata": {},
          "output_type": "display_data"
        }
      ],
      "source": [
        "plt.imshow(resonstructed_image)\n",
        "plt.show()"
      ]
    },
    {
      "cell_type": "code",
      "execution_count": 10,
      "metadata": {
        "id": "hnWELVVaNrGO"
      },
      "outputs": [
        {
          "data": {
            "image/png": "[encoded data removed]",
            "text/plain": [
              "<Figure size 640x480 with 1 Axes>"
            ]
          },
          "metadata": {},
          "output_type": "display_data"
        }
      ],
      "source": [
        "plt.imshow(test_images[9].reshape(28,28))\n",
        "plt.show()"
      ]
    },
    {
      "cell_type": "code",
      "execution_count": null,
      "metadata": {},
      "outputs": [],
      "source": []
    }
  ],
  "metadata": {
    "colab": {
      "provenance": []
    },
    "kernelspec": {
      "display_name": "Python 3",
      "name": "python3"
    },
    "language_info": {
      "codemirror_mode": {
        "name": "ipython",
        "version": 3
      },
      "file_extension": ".py",
      "mimetype": "text/x-python",
      "name": "python",
      "nbconvert_exporter": "python",
      "pygments_lexer": "ipython3",
      "version": "3.11.7"
    }
  },
  "nbformat": 4,
  "nbformat_minor": 0
}
